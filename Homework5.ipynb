{
 "cells": [
  {
   "attachments": {},
   "cell_type": "markdown",
   "id": "5ade700e-1f9a-4268-a809-4f829ce411c8",
   "metadata": {},
   "source": [
    "# Homework 5: Scene-Dependent Image Segmentation\n",
    "\n",
    "The goal of this homework is to implement a model that seperates foreground and background objects for a specific scene.  \n",
    "We will use the highway scene from the Change Detection dataset:  \n",
    "http://jacarini.dinf.usherbrooke.ca/dataset2014#\n",
    "\n",
    "![input image](highway/input/in001600.jpg \"Title\") ![gt image](highway/groundtruth/gt001600.png \"Title\")"
   ]
  },
  {
   "attachments": {},
   "cell_type": "markdown",
   "id": "ea8b5923-78bb-48e7-8db6-79b35b79b942",
   "metadata": {},
   "source": [
    "## Task 1: Create a custom (Pytorch) dataset\n",
    "\n",
    "\n",
    "https://pytorch.org/tutorials/beginner/basics/data_tutorial.html\n",
    "You need to create a class that inherets from **from torch.utils.data.Dataset** and implements two methods:\n",
    "- **def \\_\\_len\\_\\_(self)**:  returns the length of the dataset\n",
    "- **def \\_\\_getitem\\_\\_(self, idx)**: given an integer idx returns the data x,y\n",
    "    - x is the image as a float tensor of shape: $(3,H,W)$ \n",
    "    - y is the label image as a mask of shape: $(H,W)$ each pixel should contain the label 0 (background) or 1 (foreground). It is recommended to use the type torch.long\n",
    "    \n",
    "**Tips**:\n",
    "- The first 470 images are not labeled. Just ignore these images. \n",
    "- If possible load all images into memory or evene directly to GPU to increase speed.\n",
    "- You can change the resolution to fit your model or your memory\n",
    "- Add data augmentation to increase the data size"
   ]
  },
  {
   "attachments": {},
   "cell_type": "markdown",
   "id": "0e120eb7-0349-4bb0-b305-23a0f3bb5e26",
   "metadata": {},
   "source": [
    "## Task 2: Create a custom Segmentation Model\n",
    "\n",
    "- input: a batch of images $(B,3,H,W)$ \n",
    "- output: a batch of pixel-wise class predictions $(B,C,H,W)$, where $C=2$\n",
    "\n",
    "Tips:\n",
    "- It is recommended to use a Fully-Convolutional Neural Network, because it flexible to the input and output resolution.\n",
    "- Use Residual Blocks with convolutional layers.\n",
    "- Base your model on established segmentation models:\n",
    "    - U-Net: https://arxiv.org/abs/1505.04597\n",
    "    - Deeplab: https://arxiv.org/abs/1606.00915"
   ]
  },
  {
   "attachments": {},
   "cell_type": "markdown",
   "id": "a85364b0-7010-4710-9373-94a89db8d7c5",
   "metadata": {},
   "source": [
    "## Task 3: Create a training loop\n",
    "- split data into training and test data, e.g. 80% training data and 20% test data using your custom dataset.\n",
    "- Create a Dataloader for your custom datasets \n",
    "- Define a training loop for a single epoch:\n",
    "    - forward pass\n",
    "    - Loss function, e.g. cross entropy\n",
    "    - optimizer \n",
    "    - backward pass\n",
    "    - logging\n",
    "- Define validation loop:\n",
    "    - forward pass\n",
    "    - extract binary labels, e.g. threshold or argmax for each pixel.\n",
    "    - compute evaluation metrics: Accuracy, Precision, Recall and Intersection over Union for each image"
   ]
  },
  {
   "attachments": {},
   "cell_type": "markdown",
   "id": "83e603ff-a32e-4d90-84d9-eba8570d6e63",
   "metadata": {},
   "source": [
    "## Task 4: Small Report of your model and training\n",
    "- visualize training and test error over each epoch\n",
    "- report the evaluation metrics of the final model"
   ]
  },
  {
   "cell_type": "code",
   "execution_count": 143,
   "id": "728a0c1f",
   "metadata": {},
   "outputs": [
    {
     "name": "stdout",
     "output_type": "stream",
     "text": [
      "TORCH: using device: cpu\n"
     ]
    }
   ],
   "source": [
    "import cv2 as cv\n",
    "from matplotlib import pyplot as plt\n",
    "from torch.utils.data import Dataset, DataLoader\n",
    "from sklearn.model_selection import train_test_split\n",
    "import numpy as np\n",
    "import torch\n",
    "import torch.nn as nn\n",
    "device = torch.device(\"cuda\" if torch.cuda.is_available() else \"cpu\")\n",
    "print(f\"TORCH: using device: {device}\")"
   ]
  },
  {
   "attachments": {},
   "cell_type": "markdown",
   "id": "fccd427e",
   "metadata": {},
   "source": [
    "load all images"
   ]
  },
  {
   "cell_type": "code",
   "execution_count": 144,
   "id": "eb08c37f",
   "metadata": {},
   "outputs": [],
   "source": [
    "img_indices = range(471,1701)\n",
    "\n",
    "source_inputs = [cv.imread(f\"highway/input/in00{i:04d}.jpg\", )[:,:,::-1] for i in img_indices]\n",
    "source_gts = [cv.imread(f\"highway/groundtruth/gt00{i:04d}.png\",0) for i in img_indices]\n",
    "\n",
    "# downsize images\n",
    "dim = (53, 40) # width, height\n",
    "source_inputs = np.array([cv.resize(img, dim, interpolation = cv.INTER_AREA) for img in source_inputs])\n",
    "source_gts = np.array([cv.resize(img, dim, interpolation = cv.INTER_AREA) > 0 for img in source_gts])"
   ]
  },
  {
   "cell_type": "code",
   "execution_count": 145,
   "id": "6efeec94",
   "metadata": {},
   "outputs": [
    {
     "name": "stdout",
     "output_type": "stream",
     "text": [
      "(40, 53, 3)\n"
     ]
    },
    {
     "data": {
      "image/png": "[encoded data removed]",
      "text/plain": [
       "<Figure size 640x480 with 2 Axes>"
      ]
     },
     "metadata": {},
     "output_type": "display_data"
    }
   ],
   "source": [
    "img = source_inputs[0]\n",
    "gt = source_gts[0]\n",
    "print(img.shape)\n",
    "\n",
    "plt.figure()\n",
    "plt.subplot(1, 2, 1)\n",
    "plt.imshow(img)\n",
    "plt.axis(\"off\")\n",
    "plt.title(\"Image\")\n",
    "\n",
    "plt.subplot(1, 2, 2)\n",
    "plt.imshow(gt, cmap=\"gray\")\n",
    "plt.axis(\"off\")\n",
    "plt.title(\"GT\")\n",
    "plt.show()"
   ]
  },
  {
   "attachments": {},
   "cell_type": "markdown",
   "id": "c194f3c4",
   "metadata": {},
   "source": [
    "## data augmentation\n",
    "changed brightness"
   ]
  },
  {
   "cell_type": "code",
   "execution_count": 146,
   "id": "9b9fdc39",
   "metadata": {},
   "outputs": [],
   "source": [
    "def change_brightness_random(img):\n",
    "    b_change = np.random.randint(-100, 100)\n",
    "\n",
    "    b_img = cv.convertScaleAbs(img, beta=b_change)\n",
    "\n",
    "    return b_img"
   ]
  },
  {
   "cell_type": "code",
   "execution_count": 147,
   "id": "fa063815",
   "metadata": {},
   "outputs": [],
   "source": [
    "b_inputs = [change_brightness_random(img) for img in source_inputs]\n",
    "b_inputs = np.array(b_inputs)"
   ]
  },
  {
   "cell_type": "code",
   "execution_count": 148,
   "id": "bd4ffa07",
   "metadata": {},
   "outputs": [
    {
     "name": "stdout",
     "output_type": "stream",
     "text": [
      "(40, 53, 3)\n"
     ]
    },
    {
     "data": {
      "text/plain": [
       "Text(0.5, 1.0, 'Image')"
      ]
     },
     "execution_count": 148,
     "metadata": {},
     "output_type": "execute_result"
    },
    {
     "data": {
      "image/png": "[encoded data removed]",
      "text/plain": [
       "<Figure size 640x480 with 1 Axes>"
      ]
     },
     "metadata": {},
     "output_type": "display_data"
    }
   ],
   "source": [
    "img = b_inputs[0,:,:,:]\n",
    "print(img.shape)\n",
    "plt.figure()\n",
    "#plt.subplot(1, 2, 1)\n",
    "plt.imshow(img)\n",
    "plt.axis(\"off\")\n",
    "plt.title(\"Image\")"
   ]
  },
  {
   "attachments": {},
   "cell_type": "markdown",
   "id": "d4834347",
   "metadata": {},
   "source": [
    "change contrast"
   ]
  },
  {
   "cell_type": "code",
   "execution_count": 149,
   "id": "1d7f464c",
   "metadata": {},
   "outputs": [],
   "source": [
    "def change_contrast_random(img):\n",
    "    #b_change = np.random.uniform(0.2, 2)\n",
    "    b_change = 0.2\n",
    "\n",
    "    b_img = cv.convertScaleAbs(img, alpha=b_change)\n",
    "\n",
    "    return b_img"
   ]
  },
  {
   "cell_type": "code",
   "execution_count": 150,
   "id": "167c8db8",
   "metadata": {},
   "outputs": [],
   "source": [
    "c_inputs = [change_contrast_random(img) for img in source_inputs]\n",
    "c_inputs = np.array(c_inputs)"
   ]
  },
  {
   "cell_type": "code",
   "execution_count": 151,
   "id": "451db7b0",
   "metadata": {},
   "outputs": [
    {
     "data": {
      "text/plain": [
       "Text(0.5, 1.0, 'Image')"
      ]
     },
     "execution_count": 151,
     "metadata": {},
     "output_type": "execute_result"
    },
    {
     "data": {
      "image/png": "[encoded data removed]",
      "text/plain": [
       "<Figure size 640x480 with 1 Axes>"
      ]
     },
     "metadata": {},
     "output_type": "display_data"
    }
   ],
   "source": [
    "img = c_inputs[0,:,:,:]\n",
    "#print(img.shape)\n",
    "plt.figure()\n",
    "#plt.subplot(1, 2, 1)\n",
    "plt.imshow(img)\n",
    "plt.axis(\"off\")\n",
    "plt.title(\"Image\")"
   ]
  },
  {
   "attachments": {},
   "cell_type": "markdown",
   "id": "44e05bbd",
   "metadata": {},
   "source": [
    "train, test and eval split"
   ]
  },
  {
   "cell_type": "code",
   "execution_count": 152,
   "id": "b663b595",
   "metadata": {},
   "outputs": [
    {
     "name": "stdout",
     "output_type": "stream",
     "text": [
      "(3690, 3, 40, 53)\n",
      "(3690, 40, 53)\n"
     ]
    }
   ],
   "source": [
    "augm_input = [source_inputs, b_inputs, c_inputs]\n",
    "\n",
    "inputs = np.concatenate(augm_input, axis=0)\n",
    "gts = np.concatenate([source_gts]*len(augm_input), axis=0)\n",
    "\n",
    "inputs = inputs.transpose(0,3,1,2)\n",
    "#gts = gts[:,np.newaxis,:,:]\n",
    "\n",
    "print(inputs.shape)\n",
    "print(gts.shape)"
   ]
  },
  {
   "cell_type": "code",
   "execution_count": 153,
   "id": "a555090f",
   "metadata": {},
   "outputs": [
    {
     "name": "stdout",
     "output_type": "stream",
     "text": [
      "train_input: (2656, 3, 40, 53)\n",
      "train_gt: (2656, 40, 53)\n",
      "\n",
      "eval_input: (296, 3, 40, 53)\n",
      "eval_gt: (296, 40, 53)\n",
      "\n",
      "test_input: (738, 3, 40, 53)\n",
      "test_gt: (738, 40, 53)\n"
     ]
    }
   ],
   "source": [
    "train_input, test_input, train_gt, test_gt = train_test_split(inputs, gts, train_size=.8, shuffle=True)\n",
    "train_input, eval_input, train_gt, eval_gt = train_test_split(train_input, train_gt, test_size=.1, shuffle=True)\n",
    "print(f\"train_input: {train_input.shape}\")\n",
    "print(f\"train_gt: {train_gt.shape}\")\n",
    "print()\n",
    "print(f\"eval_input: {eval_input.shape}\")\n",
    "print(f\"eval_gt: {eval_gt.shape}\")\n",
    "print()\n",
    "print(f\"test_input: {test_input.shape}\")\n",
    "print(f\"test_gt: {test_gt.shape}\")"
   ]
  },
  {
   "cell_type": "code",
   "execution_count": 154,
   "id": "b5f1bf2b",
   "metadata": {},
   "outputs": [],
   "source": [
    "class SegmentDataset(Dataset):\n",
    "    def __init__(self, inputs, gts) -> None:\n",
    "        super().__init__()\n",
    "        self.inputs = inputs\n",
    "        self.gts = gts\n",
    "\n",
    "    def __len__(self):\n",
    "        return len(self.inputs)\n",
    "\n",
    "    def __getitem__(self, index):\n",
    "        input = torch.tensor(self.inputs[index], dtype=torch.float32, requires_grad=True)\n",
    "        gt = torch.tensor(self.gts[index], dtype=torch.long)\n",
    "\n",
    "        return input, gt"
   ]
  },
  {
   "cell_type": "code",
   "execution_count": 155,
   "id": "cbd192cc",
   "metadata": {},
   "outputs": [],
   "source": [
    "loaders = {\n",
    "    'train' : DataLoader(SegmentDataset(train_input, train_gt),\n",
    "                        batch_size=32,\n",
    "                        shuffle=True,\n",
    "                        #num_workers=1\n",
    "                        ),\n",
    "\n",
    "    'eval'  : DataLoader(SegmentDataset(eval_input, eval_gt),\n",
    "                        batch_size=32,\n",
    "                        shuffle=False,\n",
    "                        #num_workers=1\n",
    "                        ),\n",
    "\n",
    "    'test'  : DataLoader(SegmentDataset(test_input, test_gt),\n",
    "                        batch_size=32,\n",
    "                        shuffle=False,\n",
    "                        #num_workers=1\n",
    "                        ),\n",
    "}"
   ]
  },
  {
   "attachments": {},
   "cell_type": "markdown",
   "id": "39559578",
   "metadata": {},
   "source": [
    "## Model"
   ]
  },
  {
   "cell_type": "code",
   "execution_count": 156,
   "id": "a2e33111",
   "metadata": {},
   "outputs": [],
   "source": [
    "class ResidualBlock(torch.nn.Module):\n",
    "  def __init__(self, in_channels, out_channels, kernel_size=3, stride=1, padding=1):\n",
    "    super().__init__()\n",
    "    self.conv1 = nn.Conv2d(in_channels, out_channels, kernel_size, stride, padding)\n",
    "    self.batch1 = nn.BatchNorm2d(out_channels)\n",
    "    self.relu1 = nn.ReLU()\n",
    "    self.conv2 = nn.Conv2d(out_channels, out_channels, kernel_size, stride, padding)\n",
    "    self.batch2 = nn.BatchNorm2d(out_channels)\n",
    "    self.relu2 = nn.ReLU()\n",
    "    if in_channels != out_channels:\n",
    "        self.matching_conv = nn.Conv2d(in_channels, out_channels, 1)  # 1x1 conv\n",
    "    else:\n",
    "        self.matching_conv = nn.Identity()\n",
    "\n",
    "\n",
    "  def forward(self,x):\n",
    "    residual = self.matching_conv(x)\n",
    "    out = self.conv1(x)\n",
    "    out = self.batch1(out)\n",
    "    out = self.relu1(out)\n",
    "    out = self.conv2(out)\n",
    "    out = self.batch2(out)\n",
    "    out += residual\n",
    "    out = self.relu2(out)\n",
    "    return out\n",
    "  \n",
    "class DeConvBlock(nn.Module):\n",
    "  def __init__(self, in_channels, out_channels, kernel_size=5, stride=1, padding=1):\n",
    "    super().__init__()\n",
    "    self.deconv = nn.ConvTranspose2d(in_channels, out_channels, kernel_size, stride, padding)\n",
    "    self.batch = nn.BatchNorm2d(out_channels)\n",
    "    self.dropout = nn.Dropout2d(0.25)\n",
    "    self.res = ResidualBlock(out_channels*2, out_channels)\n",
    "\n",
    "  def forward(self, x, residual):\n",
    "    out = self.deconv(x)\n",
    "    out = self.batch(out)\n",
    "    out = torch.concatenate([residual, out], axis=1)\n",
    "    out = self.dropout(out)\n",
    "    out = self.res(out)\n",
    "    return out\n",
    "    \n",
    "class ResUNet(nn.Module):\n",
    "  def __init__(self):\n",
    "    super().__init__()\n",
    "    self.dropout = nn.Dropout2d(0.25)\n",
    "\n",
    "    self.res1 = ResidualBlock(3, 16)\n",
    "    self.maxpool1 = nn.MaxPool2d(3, stride=1)\n",
    "\n",
    "    self.res2 = ResidualBlock(16, 32)\n",
    "    self.maxpool2 = nn.MaxPool2d(3, stride=1)\n",
    "\n",
    "    self.res3 = ResidualBlock(32, 32)\n",
    "     \n",
    "    self.deconv1 = DeConvBlock(32, 32)\n",
    "    self.deconv2 = DeConvBlock(32, 16)\n",
    "\n",
    "    self.output = nn.Conv2d(16,2, kernel_size=3, stride=1, padding=1)\n",
    "    self.act = nn.Sigmoid()\n",
    "\n",
    "  def forward(self,x):\n",
    "     conv1 = self.res1(x) \n",
    "     pool1 = self.maxpool1(conv1) # -2 38x51\n",
    "     pool1 = self.dropout(pool1)\n",
    "\n",
    "     conv2 = self.res2(pool1)\n",
    "     pool2 = self.maxpool2(conv2) # -2 36x49\n",
    "     pool2 = self.dropout(pool2)\n",
    "\n",
    "     conv3 = self.res3(pool2)\n",
    "\n",
    "     deconv1 = self.deconv1(conv3, conv2) # +2 38x51\n",
    "\n",
    "     deconv2 = self.deconv2(deconv1, conv1) # +2 40x53\n",
    "\n",
    "     output = self.output(deconv2)\n",
    "     output = self.act(output)\n",
    "\n",
    "     return output\n",
    "  \n",
    "  @torch.no_grad()\n",
    "  def predict(self, x):\n",
    "    y = self.forward(x)\n",
    "    output = torch.max(y, dim=1)\n",
    "\n",
    "    return output\n"
   ]
  },
  {
   "attachments": {},
   "cell_type": "markdown",
   "id": "1ca6de21",
   "metadata": {},
   "source": [
    "## Training"
   ]
  },
  {
   "cell_type": "code",
   "execution_count": 157,
   "id": "e01b077e",
   "metadata": {},
   "outputs": [],
   "source": [
    "def train_epoch(model: torch.nn.Module, train_loader: DataLoader, f_loss: torch.nn.modules.loss, optimizer: torch.optim.Optimizer):\n",
    "    epoch_loss = []\n",
    "\n",
    "    for _, (batch_img, batch_target) in enumerate(train_loader):\n",
    "        output = model.forward(batch_img)\n",
    "\n",
    "        loss = f_loss(output, batch_target)\n",
    "\n",
    "        optimizer.zero_grad()\n",
    "        loss.backward()\n",
    "\n",
    "        optimizer.step()\n",
    "\n",
    "        with torch.no_grad():\n",
    "            epoch_loss += [loss.item()]\n",
    "\n",
    "    return np.array(epoch_loss).mean()\n",
    "\n",
    "@torch.no_grad()\n",
    "def test(model: torch.nn.Module, test_loader: DataLoader):\n",
    "    model.eval()\n",
    "    true_labels = []\n",
    "    pred_labels = []\n",
    "    for _, (batch_img, batch_targets) in enumerate(test_loader):\n",
    "        y = model.predict(batch_img)\n",
    "\n",
    "        pred_labels.append(y.numpy())\n",
    "        true_labels.append(batch_targets.numpy())\n",
    "\n",
    "    return np.array(pred_labels).flatten(), np.array(true_labels).flatten()\n",
    "\n",
    "@torch.no_grad()\n",
    "def eval(model: torch.nn.Module, eval_loader: DataLoader, f_loss: torch.nn.modules.loss):\n",
    "    model.eval()\n",
    "    eval_loss = []\n",
    "\n",
    "    for _, (batch_img, batch_targets) in enumerate(eval_loader):\n",
    "        y = model.forward(batch_img)\n",
    "\n",
    "        loss = f_loss(y, batch_targets)\n",
    "        eval_loss += [loss.item()]\n",
    "\n",
    "    eval_loss = np.array(eval_loss).mean()\n",
    "\n",
    "    return eval_loss\n",
    "\n",
    "def train(model: torch.nn.Module, loaders: dict[DataLoader], f_loss: torch.nn.modules.loss, optimizer: torch.optim.Optimizer, num_epochs=20):\n",
    "    model.train()\n",
    "\n",
    "    train_loss = []\n",
    "    eval_loss = []\n",
    "\n",
    "    for epoch in range(num_epochs):\n",
    "        epoch_train_loss = train_epoch(model, loaders[\"train\"], f_loss, optimizer)\n",
    "\n",
    "        with torch.no_grad():\n",
    "            epoch_test_loss = eval(model, loaders[\"eval\"], f_loss)\n",
    "\n",
    "            print(f\"epoch: {epoch} train_loss: {round(epoch_train_loss, 2)} \"\n",
    "                  f\"test_loss: {round(epoch_test_loss, 2)}\")\n",
    "\n",
    "            train_loss.append(epoch_train_loss)\n",
    "            eval_loss.append(epoch_test_loss)\n",
    "\n",
    "    return train_loss, eval_loss\n"
   ]
  },
  {
   "cell_type": "code",
   "execution_count": 158,
   "id": "38fa582b",
   "metadata": {},
   "outputs": [
    {
     "name": "stdout",
     "output_type": "stream",
     "text": [
      "epoch: 0 train_loss: 0.46 test_loss: 0.43\n",
      "epoch: 1 train_loss: 0.42 test_loss: 0.43\n"
     ]
    },
    {
     "ename": "KeyboardInterrupt",
     "evalue": "",
     "output_type": "error",
     "traceback": [
      "\u001b[0;31m---------------------------------------------------------------------------\u001b[0m",
      "\u001b[0;31mKeyboardInterrupt\u001b[0m                         Traceback (most recent call last)",
      "\u001b[1;32m/home/timon/Studium/Master/sommer2023/AIA/Homework5/Homework5.ipynb Cell 27\u001b[0m in \u001b[0;36m6\n\u001b[1;32m      <a href='vscode-notebook-cell:/home/timon/Studium/Master/sommer2023/AIA/Homework5/Homework5.ipynb#X35sZmlsZQ%3D%3D?line=2'>3</a>\u001b[0m criterion \u001b[39m=\u001b[39m nn\u001b[39m.\u001b[39mCrossEntropyLoss()\n\u001b[1;32m      <a href='vscode-notebook-cell:/home/timon/Studium/Master/sommer2023/AIA/Homework5/Homework5.ipynb#X35sZmlsZQ%3D%3D?line=3'>4</a>\u001b[0m optimizer \u001b[39m=\u001b[39m torch\u001b[39m.\u001b[39moptim\u001b[39m.\u001b[39mAdam(segmodel\u001b[39m.\u001b[39mparameters())\n\u001b[0;32m----> <a href='vscode-notebook-cell:/home/timon/Studium/Master/sommer2023/AIA/Homework5/Homework5.ipynb#X35sZmlsZQ%3D%3D?line=5'>6</a>\u001b[0m train_loss, eval_loss \u001b[39m=\u001b[39m train(segmodel, loaders, criterion, optimizer, num_epochs\u001b[39m=\u001b[39;49m\u001b[39m20\u001b[39;49m)\n",
      "\u001b[1;32m/home/timon/Studium/Master/sommer2023/AIA/Homework5/Homework5.ipynb Cell 27\u001b[0m in \u001b[0;36m5\n\u001b[1;32m     <a href='vscode-notebook-cell:/home/timon/Studium/Master/sommer2023/AIA/Homework5/Homework5.ipynb#X35sZmlsZQ%3D%3D?line=50'>51</a>\u001b[0m eval_loss \u001b[39m=\u001b[39m []\n\u001b[1;32m     <a href='vscode-notebook-cell:/home/timon/Studium/Master/sommer2023/AIA/Homework5/Homework5.ipynb#X35sZmlsZQ%3D%3D?line=52'>53</a>\u001b[0m \u001b[39mfor\u001b[39;00m epoch \u001b[39min\u001b[39;00m \u001b[39mrange\u001b[39m(num_epochs):\n\u001b[0;32m---> <a href='vscode-notebook-cell:/home/timon/Studium/Master/sommer2023/AIA/Homework5/Homework5.ipynb#X35sZmlsZQ%3D%3D?line=53'>54</a>\u001b[0m     epoch_train_loss \u001b[39m=\u001b[39m train_epoch(model, loaders[\u001b[39m\"\u001b[39;49m\u001b[39mtrain\u001b[39;49m\u001b[39m\"\u001b[39;49m], f_loss, optimizer)\n\u001b[1;32m     <a href='vscode-notebook-cell:/home/timon/Studium/Master/sommer2023/AIA/Homework5/Homework5.ipynb#X35sZmlsZQ%3D%3D?line=55'>56</a>\u001b[0m     \u001b[39mwith\u001b[39;00m torch\u001b[39m.\u001b[39mno_grad():\n\u001b[1;32m     <a href='vscode-notebook-cell:/home/timon/Studium/Master/sommer2023/AIA/Homework5/Homework5.ipynb#X35sZmlsZQ%3D%3D?line=56'>57</a>\u001b[0m         epoch_test_loss \u001b[39m=\u001b[39m \u001b[39meval\u001b[39m(model, loaders[\u001b[39m\"\u001b[39m\u001b[39meval\u001b[39m\u001b[39m\"\u001b[39m], f_loss)\n",
      "\u001b[1;32m/home/timon/Studium/Master/sommer2023/AIA/Homework5/Homework5.ipynb Cell 27\u001b[0m in \u001b[0;36m5\n\u001b[1;32m      <a href='vscode-notebook-cell:/home/timon/Studium/Master/sommer2023/AIA/Homework5/Homework5.ipynb#X35sZmlsZQ%3D%3D?line=1'>2</a>\u001b[0m epoch_loss \u001b[39m=\u001b[39m []\n\u001b[1;32m      <a href='vscode-notebook-cell:/home/timon/Studium/Master/sommer2023/AIA/Homework5/Homework5.ipynb#X35sZmlsZQ%3D%3D?line=3'>4</a>\u001b[0m \u001b[39mfor\u001b[39;00m _, (batch_img, batch_target) \u001b[39min\u001b[39;00m \u001b[39menumerate\u001b[39m(train_loader):\n\u001b[0;32m----> <a href='vscode-notebook-cell:/home/timon/Studium/Master/sommer2023/AIA/Homework5/Homework5.ipynb#X35sZmlsZQ%3D%3D?line=4'>5</a>\u001b[0m     output \u001b[39m=\u001b[39m model\u001b[39m.\u001b[39;49mforward(batch_img)\n\u001b[1;32m      <a href='vscode-notebook-cell:/home/timon/Studium/Master/sommer2023/AIA/Homework5/Homework5.ipynb#X35sZmlsZQ%3D%3D?line=6'>7</a>\u001b[0m     loss \u001b[39m=\u001b[39m f_loss(output, batch_target)\n\u001b[1;32m      <a href='vscode-notebook-cell:/home/timon/Studium/Master/sommer2023/AIA/Homework5/Homework5.ipynb#X35sZmlsZQ%3D%3D?line=8'>9</a>\u001b[0m     optimizer\u001b[39m.\u001b[39mzero_grad()\n",
      "\u001b[1;32m/home/timon/Studium/Master/sommer2023/AIA/Homework5/Homework5.ipynb Cell 27\u001b[0m in \u001b[0;36m7\n\u001b[1;32m     <a href='vscode-notebook-cell:/home/timon/Studium/Master/sommer2023/AIA/Homework5/Homework5.ipynb#X35sZmlsZQ%3D%3D?line=68'>69</a>\u001b[0m pool2 \u001b[39m=\u001b[39m \u001b[39mself\u001b[39m\u001b[39m.\u001b[39mdropout(pool2)\n\u001b[1;32m     <a href='vscode-notebook-cell:/home/timon/Studium/Master/sommer2023/AIA/Homework5/Homework5.ipynb#X35sZmlsZQ%3D%3D?line=70'>71</a>\u001b[0m conv3 \u001b[39m=\u001b[39m \u001b[39mself\u001b[39m\u001b[39m.\u001b[39mres3(pool2)\n\u001b[0;32m---> <a href='vscode-notebook-cell:/home/timon/Studium/Master/sommer2023/AIA/Homework5/Homework5.ipynb#X35sZmlsZQ%3D%3D?line=72'>73</a>\u001b[0m deconv1 \u001b[39m=\u001b[39m \u001b[39mself\u001b[39;49m\u001b[39m.\u001b[39;49mdeconv1(conv3, conv2) \u001b[39m# +2 38x51\u001b[39;00m\n\u001b[1;32m     <a href='vscode-notebook-cell:/home/timon/Studium/Master/sommer2023/AIA/Homework5/Homework5.ipynb#X35sZmlsZQ%3D%3D?line=74'>75</a>\u001b[0m deconv2 \u001b[39m=\u001b[39m \u001b[39mself\u001b[39m\u001b[39m.\u001b[39mdeconv2(deconv1, conv1) \u001b[39m# +2 40x53\u001b[39;00m\n\u001b[1;32m     <a href='vscode-notebook-cell:/home/timon/Studium/Master/sommer2023/AIA/Homework5/Homework5.ipynb#X35sZmlsZQ%3D%3D?line=76'>77</a>\u001b[0m output \u001b[39m=\u001b[39m \u001b[39mself\u001b[39m\u001b[39m.\u001b[39moutput(deconv2)\n",
      "File \u001b[0;32m~/.local/lib/python3.10/site-packages/torch/nn/modules/module.py:1194\u001b[0m, in \u001b[0;36mModule._call_impl\u001b[0;34m(self, *input, **kwargs)\u001b[0m\n\u001b[1;32m   1190\u001b[0m \u001b[39m# If we don't have any hooks, we want to skip the rest of the logic in\u001b[39;00m\n\u001b[1;32m   1191\u001b[0m \u001b[39m# this function, and just call forward.\u001b[39;00m\n\u001b[1;32m   1192\u001b[0m \u001b[39mif\u001b[39;00m \u001b[39mnot\u001b[39;00m (\u001b[39mself\u001b[39m\u001b[39m.\u001b[39m_backward_hooks \u001b[39mor\u001b[39;00m \u001b[39mself\u001b[39m\u001b[39m.\u001b[39m_forward_hooks \u001b[39mor\u001b[39;00m \u001b[39mself\u001b[39m\u001b[39m.\u001b[39m_forward_pre_hooks \u001b[39mor\u001b[39;00m _global_backward_hooks\n\u001b[1;32m   1193\u001b[0m         \u001b[39mor\u001b[39;00m _global_forward_hooks \u001b[39mor\u001b[39;00m _global_forward_pre_hooks):\n\u001b[0;32m-> 1194\u001b[0m     \u001b[39mreturn\u001b[39;00m forward_call(\u001b[39m*\u001b[39;49m\u001b[39minput\u001b[39;49m, \u001b[39m*\u001b[39;49m\u001b[39m*\u001b[39;49mkwargs)\n\u001b[1;32m   1195\u001b[0m \u001b[39m# Do not call functions when jit is used\u001b[39;00m\n\u001b[1;32m   1196\u001b[0m full_backward_hooks, non_full_backward_hooks \u001b[39m=\u001b[39m [], []\n",
      "\u001b[1;32m/home/timon/Studium/Master/sommer2023/AIA/Homework5/Homework5.ipynb Cell 27\u001b[0m in \u001b[0;36m4\n\u001b[1;32m     <a href='vscode-notebook-cell:/home/timon/Studium/Master/sommer2023/AIA/Homework5/Homework5.ipynb#X35sZmlsZQ%3D%3D?line=37'>38</a>\u001b[0m out \u001b[39m=\u001b[39m torch\u001b[39m.\u001b[39mconcatenate([residual, out], axis\u001b[39m=\u001b[39m\u001b[39m1\u001b[39m)\n\u001b[1;32m     <a href='vscode-notebook-cell:/home/timon/Studium/Master/sommer2023/AIA/Homework5/Homework5.ipynb#X35sZmlsZQ%3D%3D?line=38'>39</a>\u001b[0m out \u001b[39m=\u001b[39m \u001b[39mself\u001b[39m\u001b[39m.\u001b[39mdropout(out)\n\u001b[0;32m---> <a href='vscode-notebook-cell:/home/timon/Studium/Master/sommer2023/AIA/Homework5/Homework5.ipynb#X35sZmlsZQ%3D%3D?line=39'>40</a>\u001b[0m out \u001b[39m=\u001b[39m \u001b[39mself\u001b[39;49m\u001b[39m.\u001b[39;49mres(out)\n\u001b[1;32m     <a href='vscode-notebook-cell:/home/timon/Studium/Master/sommer2023/AIA/Homework5/Homework5.ipynb#X35sZmlsZQ%3D%3D?line=40'>41</a>\u001b[0m \u001b[39mreturn\u001b[39;00m out\n",
      "File \u001b[0;32m~/.local/lib/python3.10/site-packages/torch/nn/modules/module.py:1194\u001b[0m, in \u001b[0;36mModule._call_impl\u001b[0;34m(self, *input, **kwargs)\u001b[0m\n\u001b[1;32m   1190\u001b[0m \u001b[39m# If we don't have any hooks, we want to skip the rest of the logic in\u001b[39;00m\n\u001b[1;32m   1191\u001b[0m \u001b[39m# this function, and just call forward.\u001b[39;00m\n\u001b[1;32m   1192\u001b[0m \u001b[39mif\u001b[39;00m \u001b[39mnot\u001b[39;00m (\u001b[39mself\u001b[39m\u001b[39m.\u001b[39m_backward_hooks \u001b[39mor\u001b[39;00m \u001b[39mself\u001b[39m\u001b[39m.\u001b[39m_forward_hooks \u001b[39mor\u001b[39;00m \u001b[39mself\u001b[39m\u001b[39m.\u001b[39m_forward_pre_hooks \u001b[39mor\u001b[39;00m _global_backward_hooks\n\u001b[1;32m   1193\u001b[0m         \u001b[39mor\u001b[39;00m _global_forward_hooks \u001b[39mor\u001b[39;00m _global_forward_pre_hooks):\n\u001b[0;32m-> 1194\u001b[0m     \u001b[39mreturn\u001b[39;00m forward_call(\u001b[39m*\u001b[39;49m\u001b[39minput\u001b[39;49m, \u001b[39m*\u001b[39;49m\u001b[39m*\u001b[39;49mkwargs)\n\u001b[1;32m   1195\u001b[0m \u001b[39m# Do not call functions when jit is used\u001b[39;00m\n\u001b[1;32m   1196\u001b[0m full_backward_hooks, non_full_backward_hooks \u001b[39m=\u001b[39m [], []\n",
      "\u001b[1;32m/home/timon/Studium/Master/sommer2023/AIA/Homework5/Homework5.ipynb Cell 27\u001b[0m in \u001b[0;36m1\n\u001b[1;32m     <a href='vscode-notebook-cell:/home/timon/Studium/Master/sommer2023/AIA/Homework5/Homework5.ipynb#X35sZmlsZQ%3D%3D?line=15'>16</a>\u001b[0m \u001b[39mdef\u001b[39;00m \u001b[39mforward\u001b[39m(\u001b[39mself\u001b[39m,x):\n\u001b[1;32m     <a href='vscode-notebook-cell:/home/timon/Studium/Master/sommer2023/AIA/Homework5/Homework5.ipynb#X35sZmlsZQ%3D%3D?line=16'>17</a>\u001b[0m   residual \u001b[39m=\u001b[39m \u001b[39mself\u001b[39m\u001b[39m.\u001b[39mmatching_conv(x)\n\u001b[0;32m---> <a href='vscode-notebook-cell:/home/timon/Studium/Master/sommer2023/AIA/Homework5/Homework5.ipynb#X35sZmlsZQ%3D%3D?line=17'>18</a>\u001b[0m   out \u001b[39m=\u001b[39m \u001b[39mself\u001b[39;49m\u001b[39m.\u001b[39;49mconv1(x)\n\u001b[1;32m     <a href='vscode-notebook-cell:/home/timon/Studium/Master/sommer2023/AIA/Homework5/Homework5.ipynb#X35sZmlsZQ%3D%3D?line=18'>19</a>\u001b[0m   out \u001b[39m=\u001b[39m \u001b[39mself\u001b[39m\u001b[39m.\u001b[39mbatch1(out)\n\u001b[1;32m     <a href='vscode-notebook-cell:/home/timon/Studium/Master/sommer2023/AIA/Homework5/Homework5.ipynb#X35sZmlsZQ%3D%3D?line=19'>20</a>\u001b[0m   out \u001b[39m=\u001b[39m \u001b[39mself\u001b[39m\u001b[39m.\u001b[39mrelu1(out)\n",
      "File \u001b[0;32m~/.local/lib/python3.10/site-packages/torch/nn/modules/module.py:1194\u001b[0m, in \u001b[0;36mModule._call_impl\u001b[0;34m(self, *input, **kwargs)\u001b[0m\n\u001b[1;32m   1190\u001b[0m \u001b[39m# If we don't have any hooks, we want to skip the rest of the logic in\u001b[39;00m\n\u001b[1;32m   1191\u001b[0m \u001b[39m# this function, and just call forward.\u001b[39;00m\n\u001b[1;32m   1192\u001b[0m \u001b[39mif\u001b[39;00m \u001b[39mnot\u001b[39;00m (\u001b[39mself\u001b[39m\u001b[39m.\u001b[39m_backward_hooks \u001b[39mor\u001b[39;00m \u001b[39mself\u001b[39m\u001b[39m.\u001b[39m_forward_hooks \u001b[39mor\u001b[39;00m \u001b[39mself\u001b[39m\u001b[39m.\u001b[39m_forward_pre_hooks \u001b[39mor\u001b[39;00m _global_backward_hooks\n\u001b[1;32m   1193\u001b[0m         \u001b[39mor\u001b[39;00m _global_forward_hooks \u001b[39mor\u001b[39;00m _global_forward_pre_hooks):\n\u001b[0;32m-> 1194\u001b[0m     \u001b[39mreturn\u001b[39;00m forward_call(\u001b[39m*\u001b[39;49m\u001b[39minput\u001b[39;49m, \u001b[39m*\u001b[39;49m\u001b[39m*\u001b[39;49mkwargs)\n\u001b[1;32m   1195\u001b[0m \u001b[39m# Do not call functions when jit is used\u001b[39;00m\n\u001b[1;32m   1196\u001b[0m full_backward_hooks, non_full_backward_hooks \u001b[39m=\u001b[39m [], []\n",
      "File \u001b[0;32m~/.local/lib/python3.10/site-packages/torch/nn/modules/conv.py:463\u001b[0m, in \u001b[0;36mConv2d.forward\u001b[0;34m(self, input)\u001b[0m\n\u001b[1;32m    462\u001b[0m \u001b[39mdef\u001b[39;00m \u001b[39mforward\u001b[39m(\u001b[39mself\u001b[39m, \u001b[39minput\u001b[39m: Tensor) \u001b[39m-\u001b[39m\u001b[39m>\u001b[39m Tensor:\n\u001b[0;32m--> 463\u001b[0m     \u001b[39mreturn\u001b[39;00m \u001b[39mself\u001b[39;49m\u001b[39m.\u001b[39;49m_conv_forward(\u001b[39minput\u001b[39;49m, \u001b[39mself\u001b[39;49m\u001b[39m.\u001b[39;49mweight, \u001b[39mself\u001b[39;49m\u001b[39m.\u001b[39;49mbias)\n",
      "File \u001b[0;32m~/.local/lib/python3.10/site-packages/torch/nn/modules/conv.py:459\u001b[0m, in \u001b[0;36mConv2d._conv_forward\u001b[0;34m(self, input, weight, bias)\u001b[0m\n\u001b[1;32m    455\u001b[0m \u001b[39mif\u001b[39;00m \u001b[39mself\u001b[39m\u001b[39m.\u001b[39mpadding_mode \u001b[39m!=\u001b[39m \u001b[39m'\u001b[39m\u001b[39mzeros\u001b[39m\u001b[39m'\u001b[39m:\n\u001b[1;32m    456\u001b[0m     \u001b[39mreturn\u001b[39;00m F\u001b[39m.\u001b[39mconv2d(F\u001b[39m.\u001b[39mpad(\u001b[39minput\u001b[39m, \u001b[39mself\u001b[39m\u001b[39m.\u001b[39m_reversed_padding_repeated_twice, mode\u001b[39m=\u001b[39m\u001b[39mself\u001b[39m\u001b[39m.\u001b[39mpadding_mode),\n\u001b[1;32m    457\u001b[0m                     weight, bias, \u001b[39mself\u001b[39m\u001b[39m.\u001b[39mstride,\n\u001b[1;32m    458\u001b[0m                     _pair(\u001b[39m0\u001b[39m), \u001b[39mself\u001b[39m\u001b[39m.\u001b[39mdilation, \u001b[39mself\u001b[39m\u001b[39m.\u001b[39mgroups)\n\u001b[0;32m--> 459\u001b[0m \u001b[39mreturn\u001b[39;00m F\u001b[39m.\u001b[39;49mconv2d(\u001b[39minput\u001b[39;49m, weight, bias, \u001b[39mself\u001b[39;49m\u001b[39m.\u001b[39;49mstride,\n\u001b[1;32m    460\u001b[0m                 \u001b[39mself\u001b[39;49m\u001b[39m.\u001b[39;49mpadding, \u001b[39mself\u001b[39;49m\u001b[39m.\u001b[39;49mdilation, \u001b[39mself\u001b[39;49m\u001b[39m.\u001b[39;49mgroups)\n",
      "\u001b[0;31mKeyboardInterrupt\u001b[0m: "
     ]
    }
   ],
   "source": [
    "segmodel = ResUNet()\n",
    "\n",
    "criterion = nn.CrossEntropyLoss()\n",
    "optimizer = torch.optim.Adam(segmodel.parameters())\n",
    "\n",
    "train_loss, eval_loss = train(segmodel, loaders, criterion, optimizer, num_epochs=20)"
   ]
  }
 ],
 "metadata": {
  "kernelspec": {
   "display_name": "Python 3 (ipykernel)",
   "language": "python",
   "name": "python3"
  },
  "language_info": {
   "codemirror_mode": {
    "name": "ipython",
    "version": 3
   },
   "file_extension": ".py",
   "mimetype": "text/x-python",
   "name": "python",
   "nbconvert_exporter": "python",
   "pygments_lexer": "ipython3",
   "version": "3.10.9"
  }
 },
 "nbformat": 4,
 "nbformat_minor": 5
}
