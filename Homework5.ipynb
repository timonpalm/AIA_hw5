{
  "cells": [
    {
      "cell_type": "markdown",
      "id": "5ade700e-1f9a-4268-a809-4f829ce411c8",
      "metadata": {
        "id": "5ade700e-1f9a-4268-a809-4f829ce411c8"
      },
      "source": [
        "# Homework 5: Scene-Dependent Image Segmentation\n",
        "\n",
        "The goal of this homework is to implement a model that seperates foreground and background objects for a specific scene.  \n",
        "We will use the highway scene from the Change Detection dataset:  \n",
        "http://jacarini.dinf.usherbrooke.ca/dataset2014#\n",
        "\n",
        "![input image](highway/input/in001600.jpg \"Title\") ![gt image](highway/groundtruth/gt001600.png \"Title\")"
      ]
    },
    {
      "cell_type": "markdown",
      "id": "ea8b5923-78bb-48e7-8db6-79b35b79b942",
      "metadata": {
        "id": "ea8b5923-78bb-48e7-8db6-79b35b79b942"
      },
      "source": [
        "## Task 1: Create a custom (Pytorch) dataset\n",
        "\n",
        "\n",
        "https://pytorch.org/tutorials/beginner/basics/data_tutorial.html\n",
        "You need to create a class that inherets from **from torch.utils.data.Dataset** and implements two methods:\n",
        "- **def \\_\\_len\\_\\_(self)**:  returns the length of the dataset\n",
        "- **def \\_\\_getitem\\_\\_(self, idx)**: given an integer idx returns the data x,y\n",
        "    - x is the image as a float tensor of shape: $(3,H,W)$\n",
        "    - y is the label image as a mask of shape: $(H,W)$ each pixel should contain the label 0 (background) or 1 (foreground). It is recommended to use the type torch.long\n",
        "    \n",
        "**Tips**:\n",
        "- The first 470 images are not labeled. Just ignore these images.\n",
        "- If possible load all images into memory or evene directly to GPU to increase speed.\n",
        "- You can change the resolution to fit your model or your memory\n",
        "- Add data augmentation to increase the data size"
      ]
    },
    {
      "cell_type": "markdown",
      "id": "0e120eb7-0349-4bb0-b305-23a0f3bb5e26",
      "metadata": {
        "id": "0e120eb7-0349-4bb0-b305-23a0f3bb5e26"
      },
      "source": [
        "## Task 2: Create a custom Segmentation Model\n",
        "\n",
        "- input: a batch of images $(B,3,H,W)$\n",
        "- output: a batch of pixel-wise class predictions $(B,C,H,W)$, where $C=2$\n",
        "\n",
        "Tips:\n",
        "- It is recommended to use a Fully-Convolutional Neural Network, because it flexible to the input and output resolution.\n",
        "- Use Residual Blocks with convolutional layers.\n",
        "- Base your model on established segmentation models:\n",
        "    - U-Net: https://arxiv.org/abs/1505.04597\n",
        "    - Deeplab: https://arxiv.org/abs/1606.00915"
      ]
    },
    {
      "cell_type": "markdown",
      "id": "a85364b0-7010-4710-9373-94a89db8d7c5",
      "metadata": {
        "id": "a85364b0-7010-4710-9373-94a89db8d7c5"
      },
      "source": [
        "## Task 3: Create a training loop\n",
        "- split data into training and test data, e.g. 80% training data and 20% test data using your custom dataset.\n",
        "- Create a Dataloader for your custom datasets\n",
        "- Define a training loop for a single epoch:\n",
        "    - forward pass\n",
        "    - Loss function, e.g. cross entropy\n",
        "    - optimizer\n",
        "    - backward pass\n",
        "    - logging\n",
        "- Define validation loop:\n",
        "    - forward pass\n",
        "    - extract binary labels, e.g. threshold or argmax for each pixel.\n",
        "    - compute evaluation metrics: Accuracy, Precision, Recall and Intersection over Union for each image"
      ]
    },
    {
      "cell_type": "markdown",
      "id": "83e603ff-a32e-4d90-84d9-eba8570d6e63",
      "metadata": {
        "id": "83e603ff-a32e-4d90-84d9-eba8570d6e63"
      },
      "source": [
        "## Task 4: Small Report of your model and training\n",
        "- visualize training and test error over each epoch\n",
        "- report the evaluation metrics of the final model"
      ]
    },
    {
      "cell_type": "code",
      "source": [
        "!git clone https://github.com/timonpalm/AIA_hw5.git"
      ],
      "metadata": {
        "colab": {
          "base_uri": "https://localhost:8080/"
        },
        "id": "DEroEW4CKuHL",
        "outputId": "9ae94367-6ddd-49a5-de51-5dc9befb0aa3"
      },
      "id": "DEroEW4CKuHL",
      "execution_count": 2,
      "outputs": [
        {
          "output_type": "stream",
          "name": "stdout",
          "text": [
            "Cloning into 'AIA_hw5'...\n",
            "remote: Enumerating objects: 2949, done.\u001b[K\n",
            "remote: Counting objects: 100% (2949/2949), done.\u001b[K\n",
            "remote: Compressing objects: 100% (2280/2280), done.\u001b[K\n",
            "remote: Total 2949 (delta 670), reused 2940 (delta 667), pack-reused 0\u001b[K\n",
            "Receiving objects: 100% (2949/2949), 25.28 MiB | 22.99 MiB/s, done.\n",
            "Resolving deltas: 100% (670/670), done.\n"
          ]
        }
      ]
    },
    {
      "cell_type": "code",
      "execution_count": 3,
      "id": "728a0c1f",
      "metadata": {
        "colab": {
          "base_uri": "https://localhost:8080/"
        },
        "id": "728a0c1f",
        "outputId": "54f6f295-3cb3-4852-e396-2e52c3ede70b"
      },
      "outputs": [
        {
          "output_type": "stream",
          "name": "stdout",
          "text": [
            "TORCH: using device: cuda\n"
          ]
        }
      ],
      "source": [
        "import cv2 as cv\n",
        "from matplotlib import pyplot as plt\n",
        "from torch.utils.data import Dataset, DataLoader\n",
        "from sklearn.model_selection import train_test_split\n",
        "import numpy as np\n",
        "import torch\n",
        "import torch.nn as nn\n",
        "import torchvision\n",
        "device = torch.device(\"cuda\" if torch.cuda.is_available() else \"cpu\")\n",
        "print(f\"TORCH: using device: {device}\")"
      ]
    },
    {
      "cell_type": "markdown",
      "id": "fccd427e",
      "metadata": {
        "id": "fccd427e"
      },
      "source": [
        "load all images"
      ]
    },
    {
      "cell_type": "code",
      "execution_count": 4,
      "id": "eb08c37f",
      "metadata": {
        "id": "eb08c37f"
      },
      "outputs": [],
      "source": [
        "img_indices = range(471,1701)\n",
        "\n",
        "source_inputs = [cv.imread(f\"AIA_hw5/highway/input/in00{i:04d}.jpg\", )[:,:,::-1] for i in img_indices]\n",
        "source_gts = [cv.imread(f\"AIA_hw5/highway/groundtruth/gt00{i:04d}.png\",0) for i in img_indices]\n",
        "\n",
        "# downsize images\n",
        "dim = (53, 40) # width, height\n",
        "source_inputs = np.array([cv.resize(img, dim, interpolation = cv.INTER_AREA) for img in source_inputs])\n",
        "source_gts = np.array([cv.resize(img, dim, interpolation = cv.INTER_AREA) > 0 for img in source_gts])"
      ]
    },
    {
      "cell_type": "code",
      "execution_count": 5,
      "id": "6efeec94",
      "metadata": {
        "colab": {
          "base_uri": "https://localhost:8080/",
          "height": 246
        },
        "id": "6efeec94",
        "outputId": "b4d8df67-b394-4e4a-bef2-3abbc150c24f"
      },
      "outputs": [
        {
          "output_type": "stream",
          "name": "stdout",
          "text": [
            "(40, 53, 3)\n"
          ]
        },
        {
          "output_type": "display_data",
          "data": {
            "text/plain": [
              "<Figure size 640x480 with 2 Axes>"
            ],
            "image/png": "[encoded data removed]"
          },
          "metadata": {}
        }
      ],
      "source": [
        "img = source_inputs[0]\n",
        "gt = source_gts[0]\n",
        "print(img.shape)\n",
        "\n",
        "plt.figure()\n",
        "plt.subplot(1, 2, 1)\n",
        "plt.imshow(img)\n",
        "plt.axis(\"off\")\n",
        "plt.title(\"Image\")\n",
        "\n",
        "plt.subplot(1, 2, 2)\n",
        "plt.imshow(gt, cmap=\"gray\")\n",
        "plt.axis(\"off\")\n",
        "plt.title(\"GT\")\n",
        "plt.show()"
      ]
    },
    {
      "cell_type": "markdown",
      "id": "c194f3c4",
      "metadata": {
        "id": "c194f3c4"
      },
      "source": [
        "## data augmentation\n",
        "changed brightness"
      ]
    },
    {
      "cell_type": "code",
      "execution_count": 6,
      "id": "9b9fdc39",
      "metadata": {
        "id": "9b9fdc39"
      },
      "outputs": [],
      "source": [
        "def change_brightness_random(img):\n",
        "    b_change = np.random.randint(-100, 100)\n",
        "\n",
        "    b_img = cv.convertScaleAbs(img, beta=b_change)\n",
        "\n",
        "    return b_img"
      ]
    },
    {
      "cell_type": "code",
      "execution_count": 7,
      "id": "fa063815",
      "metadata": {
        "id": "fa063815"
      },
      "outputs": [],
      "source": [
        "b_inputs = [change_brightness_random(img) for img in source_inputs]\n",
        "b_inputs = np.array(b_inputs)"
      ]
    },
    {
      "cell_type": "code",
      "execution_count": 8,
      "id": "bd4ffa07",
      "metadata": {
        "colab": {
          "base_uri": "https://localhost:8080/",
          "height": 463
        },
        "id": "bd4ffa07",
        "outputId": "a59f2b8e-040b-4a49-c92c-70f0faf61993"
      },
      "outputs": [
        {
          "output_type": "stream",
          "name": "stdout",
          "text": [
            "(40, 53, 3)\n"
          ]
        },
        {
          "output_type": "execute_result",
          "data": {
            "text/plain": [
              "Text(0.5, 1.0, 'Image')"
            ]
          },
          "metadata": {},
          "execution_count": 8
        },
        {
          "output_type": "display_data",
          "data": {
            "text/plain": [
              "<Figure size 640x480 with 1 Axes>"
            ],
            "image/png": "[encoded data removed]"
          },
          "metadata": {}
        }
      ],
      "source": [
        "img = b_inputs[0,:,:,:]\n",
        "print(img.shape)\n",
        "plt.figure()\n",
        "#plt.subplot(1, 2, 1)\n",
        "plt.imshow(img)\n",
        "plt.axis(\"off\")\n",
        "plt.title(\"Image\")"
      ]
    },
    {
      "cell_type": "markdown",
      "id": "d4834347",
      "metadata": {
        "id": "d4834347"
      },
      "source": [
        "change contrast"
      ]
    },
    {
      "cell_type": "code",
      "execution_count": 9,
      "id": "1d7f464c",
      "metadata": {
        "id": "1d7f464c"
      },
      "outputs": [],
      "source": [
        "def change_contrast_random(img):\n",
        "    #b_change = np.random.uniform(0.2, 2)\n",
        "    b_change = 0.2\n",
        "\n",
        "    b_img = cv.convertScaleAbs(img, alpha=b_change)\n",
        "\n",
        "    return b_img"
      ]
    },
    {
      "cell_type": "code",
      "execution_count": 10,
      "id": "167c8db8",
      "metadata": {
        "id": "167c8db8"
      },
      "outputs": [],
      "source": [
        "c_inputs = [change_contrast_random(img) for img in source_inputs]\n",
        "c_inputs = np.array(c_inputs)"
      ]
    },
    {
      "cell_type": "code",
      "execution_count": 11,
      "id": "451db7b0",
      "metadata": {
        "colab": {
          "base_uri": "https://localhost:8080/",
          "height": 445
        },
        "id": "451db7b0",
        "outputId": "5473de35-58e0-4fc0-9333-055f0079a3a9"
      },
      "outputs": [
        {
          "output_type": "execute_result",
          "data": {
            "text/plain": [
              "Text(0.5, 1.0, 'Image')"
            ]
          },
          "metadata": {},
          "execution_count": 11
        },
        {
          "output_type": "display_data",
          "data": {
            "text/plain": [
              "<Figure size 640x480 with 1 Axes>"
            ],
            "image/png": "[encoded data removed]"
          },
          "metadata": {}
        }
      ],
      "source": [
        "img = c_inputs[0,:,:,:]\n",
        "#print(img.shape)\n",
        "plt.figure()\n",
        "#plt.subplot(1, 2, 1)\n",
        "plt.imshow(img)\n",
        "plt.axis(\"off\")\n",
        "plt.title(\"Image\")"
      ]
    },
    {
      "cell_type": "markdown",
      "id": "44e05bbd",
      "metadata": {
        "id": "44e05bbd"
      },
      "source": [
        "train, test and eval split"
      ]
    },
    {
      "cell_type": "code",
      "execution_count": 12,
      "id": "b663b595",
      "metadata": {
        "colab": {
          "base_uri": "https://localhost:8080/"
        },
        "id": "b663b595",
        "outputId": "93d981b3-ed67-4bc2-e1c4-0f11703ff188"
      },
      "outputs": [
        {
          "output_type": "stream",
          "name": "stdout",
          "text": [
            "(3690, 3, 40, 53)\n",
            "(3690, 40, 53)\n"
          ]
        }
      ],
      "source": [
        "augm_input = [source_inputs, b_inputs, c_inputs]\n",
        "\n",
        "inputs = np.concatenate(augm_input, axis=0)\n",
        "gts = np.concatenate([source_gts]*len(augm_input), axis=0)\n",
        "\n",
        "inputs = inputs.transpose(0,3,1,2)\n",
        "#gts = gts[:,np.newaxis,:,:]\n",
        "\n",
        "print(inputs.shape)\n",
        "print(gts.shape)"
      ]
    },
    {
      "cell_type": "code",
      "execution_count": 13,
      "id": "a555090f",
      "metadata": {
        "colab": {
          "base_uri": "https://localhost:8080/"
        },
        "id": "a555090f",
        "outputId": "680fb961-9b3e-4ca6-e902-c0618daa5156"
      },
      "outputs": [
        {
          "output_type": "stream",
          "name": "stdout",
          "text": [
            "train_input: (2656, 3, 40, 53)\n",
            "train_gt: (2656, 40, 53)\n",
            "\n",
            "eval_input: (296, 3, 40, 53)\n",
            "eval_gt: (296, 40, 53)\n",
            "\n",
            "test_input: (738, 3, 40, 53)\n",
            "test_gt: (738, 40, 53)\n"
          ]
        }
      ],
      "source": [
        "train_input, test_input, train_gt, test_gt = train_test_split(inputs, gts, train_size=.8, shuffle=True)\n",
        "train_input, eval_input, train_gt, eval_gt = train_test_split(train_input, train_gt, test_size=.1, shuffle=True)\n",
        "print(f\"train_input: {train_input.shape}\")\n",
        "print(f\"train_gt: {train_gt.shape}\")\n",
        "print()\n",
        "print(f\"eval_input: {eval_input.shape}\")\n",
        "print(f\"eval_gt: {eval_gt.shape}\")\n",
        "print()\n",
        "print(f\"test_input: {test_input.shape}\")\n",
        "print(f\"test_gt: {test_gt.shape}\")"
      ]
    },
    {
      "cell_type": "code",
      "execution_count": 14,
      "id": "b5f1bf2b",
      "metadata": {
        "id": "b5f1bf2b"
      },
      "outputs": [],
      "source": [
        "class SegmentDataset(Dataset):\n",
        "    def __init__(self, inputs, gts) -> None:\n",
        "        super().__init__()\n",
        "        self.inputs = inputs\n",
        "        self.gts = gts\n",
        "\n",
        "    def __len__(self):\n",
        "        return len(self.inputs)\n",
        "\n",
        "    def __getitem__(self, index):\n",
        "        input = torch.tensor(self.inputs[index], dtype=torch.float32, requires_grad=True)\n",
        "        gt = torch.tensor(self.gts[index], dtype=torch.long)\n",
        "\n",
        "        return input, gt"
      ]
    },
    {
      "cell_type": "code",
      "execution_count": 15,
      "id": "cbd192cc",
      "metadata": {
        "id": "cbd192cc"
      },
      "outputs": [],
      "source": [
        "loaders = {\n",
        "    'train' : DataLoader(SegmentDataset(train_input, train_gt),\n",
        "                        batch_size=32,\n",
        "                        shuffle=True,\n",
        "                        #num_workers=1\n",
        "                        ),\n",
        "\n",
        "    'eval'  : DataLoader(SegmentDataset(eval_input, eval_gt),\n",
        "                        batch_size=32,\n",
        "                        shuffle=False,\n",
        "                        #num_workers=1\n",
        "                        ),\n",
        "\n",
        "    'test'  : DataLoader(SegmentDataset(test_input, test_gt),\n",
        "                        batch_size=32,\n",
        "                        shuffle=False,\n",
        "                        #num_workers=1\n",
        "                        ),\n",
        "}"
      ]
    },
    {
      "cell_type": "markdown",
      "id": "39559578",
      "metadata": {
        "id": "39559578"
      },
      "source": [
        "## Model"
      ]
    },
    {
      "cell_type": "code",
      "execution_count": 16,
      "id": "a2e33111",
      "metadata": {
        "id": "a2e33111"
      },
      "outputs": [],
      "source": [
        "class ResidualBlock(torch.nn.Module):\n",
        "  def __init__(self, in_channels, out_channels, kernel_size=3, stride=1, padding=1):\n",
        "    super().__init__()\n",
        "    self.conv1 = nn.Conv2d(in_channels, out_channels, kernel_size, stride, padding)\n",
        "    self.batch1 = nn.BatchNorm2d(out_channels)\n",
        "    self.relu1 = nn.ReLU()\n",
        "    self.conv2 = nn.Conv2d(out_channels, out_channels, kernel_size, stride, padding)\n",
        "    self.batch2 = nn.BatchNorm2d(out_channels)\n",
        "    self.relu2 = nn.ReLU()\n",
        "    if in_channels != out_channels:\n",
        "        self.matching_conv = nn.Conv2d(in_channels, out_channels, 1)  # 1x1 conv\n",
        "    else:\n",
        "        self.matching_conv = nn.Identity()\n",
        "\n",
        "\n",
        "  def forward(self,x):\n",
        "    residual = self.matching_conv(x)\n",
        "    out = self.conv1(x)\n",
        "    out = self.batch1(out)\n",
        "    out = self.relu1(out)\n",
        "    out = self.conv2(out)\n",
        "    out = self.batch2(out)\n",
        "    out += residual\n",
        "    out = self.relu2(out)\n",
        "    return out\n",
        "\n",
        "class DeConvBlock(nn.Module):\n",
        "  def __init__(self, in_channels, out_channels, kernel_size=5, stride=1, padding=1):\n",
        "    super().__init__()\n",
        "    self.deconv = nn.ConvTranspose2d(in_channels, out_channels, kernel_size, stride, padding)\n",
        "    self.batch = nn.BatchNorm2d(out_channels)\n",
        "    self.dropout = nn.Dropout2d(0.25)\n",
        "    self.res = ResidualBlock(out_channels*2, out_channels)\n",
        "\n",
        "  def forward(self, x, residual):\n",
        "    out = self.deconv(x)\n",
        "    out = self.batch(out)\n",
        "    out = torch.concatenate([residual, out], axis=1)\n",
        "    out = self.dropout(out)\n",
        "    out = self.res(out)\n",
        "    return out\n",
        "\n",
        "class ResUNet(nn.Module):\n",
        "  def __init__(self):\n",
        "    super().__init__()\n",
        "    self.dropout = nn.Dropout2d(0.25)\n",
        "\n",
        "    self.res1 = ResidualBlock(3, 16)\n",
        "    self.maxpool1 = nn.MaxPool2d(3, stride=1)\n",
        "\n",
        "    self.res2 = ResidualBlock(16, 32)\n",
        "    self.maxpool2 = nn.MaxPool2d(3, stride=1)\n",
        "\n",
        "    self.res3 = ResidualBlock(32, 32)\n",
        "\n",
        "    self.deconv1 = DeConvBlock(32, 32)\n",
        "    self.deconv2 = DeConvBlock(32, 16)\n",
        "\n",
        "    self.output = nn.Conv2d(16,2, kernel_size=3, stride=1, padding=1)\n",
        "    self.act = nn.Sigmoid()\n",
        "\n",
        "  def forward(self,x):\n",
        "     conv1 = self.res1(x)\n",
        "     pool1 = self.maxpool1(conv1) # -2 38x51\n",
        "     pool1 = self.dropout(pool1)\n",
        "\n",
        "     conv2 = self.res2(pool1)\n",
        "     pool2 = self.maxpool2(conv2) # -2 36x49\n",
        "     pool2 = self.dropout(pool2)\n",
        "\n",
        "     conv3 = self.res3(pool2)\n",
        "\n",
        "     deconv1 = self.deconv1(conv3, conv2) # +2 38x51\n",
        "\n",
        "     deconv2 = self.deconv2(deconv1, conv1) # +2 40x53\n",
        "\n",
        "     output = self.output(deconv2)\n",
        "     output = self.act(output)\n",
        "\n",
        "     return output\n",
        "\n",
        "  @torch.no_grad()\n",
        "  def predict(self, x):\n",
        "    y = self.forward(x)\n",
        "    output = torch.argmax(y, dim=1)\n",
        "\n",
        "    return output\n"
      ]
    },
    {
      "cell_type": "markdown",
      "id": "1ca6de21",
      "metadata": {
        "id": "1ca6de21"
      },
      "source": [
        "## Training"
      ]
    },
    {
      "cell_type": "code",
      "execution_count": 23,
      "id": "e01b077e",
      "metadata": {
        "id": "e01b077e"
      },
      "outputs": [],
      "source": [
        "def train_epoch(model: torch.nn.Module, train_loader: DataLoader, f_loss: torch.nn.modules.loss, optimizer: torch.optim.Optimizer):\n",
        "    model.train()\n",
        "    epoch_loss = []\n",
        "\n",
        "    for _, (batch_img, batch_target) in enumerate(train_loader):\n",
        "        output = model.forward(batch_img)\n",
        "\n",
        "        loss = f_loss(output, batch_target)\n",
        "\n",
        "        optimizer.zero_grad()\n",
        "        loss.backward()\n",
        "\n",
        "        optimizer.step()\n",
        "\n",
        "        with torch.no_grad():\n",
        "            epoch_loss += [loss.item()]\n",
        "\n",
        "    return np.array(epoch_loss).mean()\n",
        "\n",
        "@torch.no_grad()\n",
        "def test(model: torch.nn.Module, test_loader: DataLoader):\n",
        "    model.eval()\n",
        "    img_res = 40 * 53\n",
        "\n",
        "    accs = []\n",
        "    precisions = []\n",
        "    recalls = []\n",
        "    ious =[]\n",
        "\n",
        "    for _, (batch_img, batch_targets) in enumerate(test_loader):\n",
        "        y = model.predict(batch_img).numpy()\n",
        "\n",
        "        tp = np.sum((y == batch_targets), axis=(1,2))\n",
        "        acc = tp / img_res\n",
        "\n",
        "        precision = tp / y.sum(axis=(1,2))\n",
        "\n",
        "        fn = np.sum(((batch_targets - y) == 1), axis=(1,2))\n",
        "\n",
        "        recall = tp / (tp + fn)\n",
        "\n",
        "        iou = np.sum(np.logical_and(batch_targets, y), axis=(1,2)) / np.sum(np.logical_or(batch_targets, y), axis=(1,2))\n",
        "\n",
        "        accs.append(acc)\n",
        "        precisions.append(precisions)\n",
        "        recalls.append(recall)\n",
        "        ious.append(iou)\n",
        "\n",
        "    return np.concatenate(accs), np.concatenate(precisions), np.concatenate(recalls), np.concatenate(ious)\n",
        "\n",
        "@torch.no_grad()\n",
        "def eval(model: torch.nn.Module, eval_loader: DataLoader, f_loss: torch.nn.modules.loss):\n",
        "    model.eval()\n",
        "    eval_loss = []\n",
        "\n",
        "    for _, (batch_img, batch_targets) in enumerate(eval_loader):\n",
        "        y = model.forward(batch_img)\n",
        "\n",
        "        loss = f_loss(y, batch_targets)\n",
        "        eval_loss += [loss.item()]\n",
        "\n",
        "    eval_loss = np.array(eval_loss).mean()\n",
        "\n",
        "    return eval_loss\n",
        "\n",
        "def train(model: torch.nn.Module, loaders: dict[DataLoader], f_loss: torch.nn.modules.loss, optimizer: torch.optim.Optimizer, num_epochs=20):\n",
        "    model.train()\n",
        "\n",
        "    train_loss = []\n",
        "    eval_loss = []\n",
        "\n",
        "    for epoch in range(num_epochs):\n",
        "        epoch_train_loss = train_epoch(model, loaders[\"train\"], f_loss, optimizer)\n",
        "\n",
        "        with torch.no_grad():\n",
        "            epoch_eval_loss = eval(model, loaders[\"eval\"], f_loss)\n",
        "\n",
        "            print(f\"epoch: {epoch+1} train_loss: {round(epoch_train_loss, 4)} \"\n",
        "                  f\"eval_loss: {round(epoch_eval_loss, 4)}\")\n",
        "\n",
        "            train_loss.append(epoch_train_loss)\n",
        "            eval_loss.append(epoch_eval_loss)\n",
        "\n",
        "    return train_loss, eval_loss\n"
      ]
    },
    {
      "cell_type": "code",
      "execution_count": 21,
      "id": "38fa582b",
      "metadata": {
        "colab": {
          "base_uri": "https://localhost:8080/"
        },
        "id": "38fa582b",
        "outputId": "a6f4b608-9760-4968-af9f-3134243ab06c"
      },
      "outputs": [
        {
          "output_type": "stream",
          "name": "stdout",
          "text": [
            "epoch: 0 train_loss: 0.44 eval_loss: 0.42\n",
            "epoch: 1 train_loss: 0.42 eval_loss: 0.42\n",
            "epoch: 2 train_loss: 0.42 eval_loss: 0.4\n",
            "epoch: 3 train_loss: 0.37 eval_loss: 0.34\n",
            "epoch: 4 train_loss: 0.35 eval_loss: 0.34\n",
            "epoch: 5 train_loss: 0.34 eval_loss: 0.34\n",
            "epoch: 6 train_loss: 0.34 eval_loss: 0.33\n",
            "epoch: 7 train_loss: 0.33 eval_loss: 0.33\n",
            "epoch: 8 train_loss: 0.33 eval_loss: 0.33\n",
            "epoch: 9 train_loss: 0.33 eval_loss: 0.33\n",
            "epoch: 10 train_loss: 0.33 eval_loss: 0.33\n",
            "epoch: 11 train_loss: 0.33 eval_loss: 0.33\n",
            "epoch: 12 train_loss: 0.33 eval_loss: 0.32\n",
            "epoch: 13 train_loss: 0.33 eval_loss: 0.32\n",
            "epoch: 14 train_loss: 0.33 eval_loss: 0.32\n",
            "epoch: 15 train_loss: 0.33 eval_loss: 0.32\n",
            "epoch: 16 train_loss: 0.32 eval_loss: 0.32\n",
            "epoch: 17 train_loss: 0.32 eval_loss: 0.32\n",
            "epoch: 18 train_loss: 0.32 eval_loss: 0.32\n",
            "epoch: 19 train_loss: 0.32 eval_loss: 0.32\n"
          ]
        }
      ],
      "source": [
        "segmodel = ResUNet()\n",
        "\n",
        "criterion = nn.CrossEntropyLoss()\n",
        "optimizer = torch.optim.Adam(segmodel.parameters())\n",
        "\n",
        "train_loss, eval_loss = train(segmodel, loaders, criterion, optimizer, num_epochs=10)"
      ]
    },
    {
      "cell_type": "code",
      "source": [
        "plt.plot(train_loss, label=\"train_loss\")\n",
        "plt.plot(eval_loss, label=\"eval_loss\")\n",
        "plt.legend()\n",
        "plt.show()"
      ],
      "metadata": {
        "colab": {
          "base_uri": "https://localhost:8080/",
          "height": 430
        },
        "id": "lygpwifzSCIR",
        "outputId": "fb7be55a-7fa6-49d4-dc56-fbe6cd2e4bb5"
      },
      "id": "lygpwifzSCIR",
      "execution_count": 22,
      "outputs": [
        {
          "output_type": "display_data",
          "data": {
            "text/plain": [
              "<Figure size 640x480 with 1 Axes>"
            ],
            "image/png": "[encoded data removed]"
          },
          "metadata": {}
        }
      ]
    },
    {
      "cell_type": "code",
      "source": [
        "metrics = test(segmodel, loaders[\"test\"])\n",
        "\n",
        "print(f\"mean accuracy: {metrics[0].mean()}\")\n",
        "print(f\"mean precision: {metrics[1].mean()}\")\n",
        "print(f\"mean recall: {metrics[2].mean()}\")\n",
        "print(f\"mean iou: {metrics[3].mean()}\")"
      ],
      "metadata": {
        "colab": {
          "base_uri": "https://localhost:8080/",
          "height": 779
        },
        "id": "ICHsgsesSgct",
        "outputId": "1c856c25-55cb-4f9c-b40c-aa8954171e48"
      },
      "id": "ICHsgsesSgct",
      "execution_count": 24,
      "outputs": [
        {
          "output_type": "error",
          "ename": "AxisError",
          "evalue": "ignored",
          "traceback": [
            "\u001b[0;31m---------------------------------------------------------------------------\u001b[0m",
            "\u001b[0;31mAxisError\u001b[0m                                 Traceback (most recent call last)",
            "\u001b[0;32m<ipython-input-24-7d133091e76a>\u001b[0m in \u001b[0;36m<cell line: 1>\u001b[0;34m()\u001b[0m\n\u001b[0;32m----> 1\u001b[0;31m \u001b[0mmetrics\u001b[0m \u001b[0;34m=\u001b[0m \u001b[0mtest\u001b[0m\u001b[0;34m(\u001b[0m\u001b[0msegmodel\u001b[0m\u001b[0;34m,\u001b[0m \u001b[0mloaders\u001b[0m\u001b[0;34m[\u001b[0m\u001b[0;34m\"test\"\u001b[0m\u001b[0;34m]\u001b[0m\u001b[0;34m)\u001b[0m\u001b[0;34m\u001b[0m\u001b[0;34m\u001b[0m\u001b[0m\n\u001b[0m\u001b[1;32m      2\u001b[0m \u001b[0;34m\u001b[0m\u001b[0m\n\u001b[1;32m      3\u001b[0m \u001b[0mprint\u001b[0m\u001b[0;34m(\u001b[0m\u001b[0;34mf\"mean accuracy: {metrics[0].mean()}\"\u001b[0m\u001b[0;34m)\u001b[0m\u001b[0;34m\u001b[0m\u001b[0;34m\u001b[0m\u001b[0m\n\u001b[1;32m      4\u001b[0m \u001b[0mprint\u001b[0m\u001b[0;34m(\u001b[0m\u001b[0;34mf\"mean precision: {metrics[1].mean()}\"\u001b[0m\u001b[0;34m)\u001b[0m\u001b[0;34m\u001b[0m\u001b[0;34m\u001b[0m\u001b[0m\n\u001b[1;32m      5\u001b[0m \u001b[0mprint\u001b[0m\u001b[0;34m(\u001b[0m\u001b[0;34mf\"mean recall: {metrics[2].mean()}\"\u001b[0m\u001b[0;34m)\u001b[0m\u001b[0;34m\u001b[0m\u001b[0;34m\u001b[0m\u001b[0m\n",
            "\u001b[0;32m/usr/local/lib/python3.10/dist-packages/torch/utils/_contextlib.py\u001b[0m in \u001b[0;36mdecorate_context\u001b[0;34m(*args, **kwargs)\u001b[0m\n\u001b[1;32m    113\u001b[0m     \u001b[0;32mdef\u001b[0m \u001b[0mdecorate_context\u001b[0m\u001b[0;34m(\u001b[0m\u001b[0;34m*\u001b[0m\u001b[0margs\u001b[0m\u001b[0;34m,\u001b[0m \u001b[0;34m**\u001b[0m\u001b[0mkwargs\u001b[0m\u001b[0;34m)\u001b[0m\u001b[0;34m:\u001b[0m\u001b[0;34m\u001b[0m\u001b[0;34m\u001b[0m\u001b[0m\n\u001b[1;32m    114\u001b[0m         \u001b[0;32mwith\u001b[0m \u001b[0mctx_factory\u001b[0m\u001b[0;34m(\u001b[0m\u001b[0;34m)\u001b[0m\u001b[0;34m:\u001b[0m\u001b[0;34m\u001b[0m\u001b[0;34m\u001b[0m\u001b[0m\n\u001b[0;32m--> 115\u001b[0;31m             \u001b[0;32mreturn\u001b[0m \u001b[0mfunc\u001b[0m\u001b[0;34m(\u001b[0m\u001b[0;34m*\u001b[0m\u001b[0margs\u001b[0m\u001b[0;34m,\u001b[0m \u001b[0;34m**\u001b[0m\u001b[0mkwargs\u001b[0m\u001b[0;34m)\u001b[0m\u001b[0;34m\u001b[0m\u001b[0;34m\u001b[0m\u001b[0m\n\u001b[0m\u001b[1;32m    116\u001b[0m \u001b[0;34m\u001b[0m\u001b[0m\n\u001b[1;32m    117\u001b[0m     \u001b[0;32mreturn\u001b[0m \u001b[0mdecorate_context\u001b[0m\u001b[0;34m\u001b[0m\u001b[0;34m\u001b[0m\u001b[0m\n",
            "\u001b[0;32m<ipython-input-23-c4d686c893a8>\u001b[0m in \u001b[0;36mtest\u001b[0;34m(model, test_loader)\u001b[0m\n\u001b[1;32m     31\u001b[0m         \u001b[0my\u001b[0m \u001b[0;34m=\u001b[0m \u001b[0mmodel\u001b[0m\u001b[0;34m.\u001b[0m\u001b[0mpredict\u001b[0m\u001b[0;34m(\u001b[0m\u001b[0mbatch_img\u001b[0m\u001b[0;34m)\u001b[0m\u001b[0;34m.\u001b[0m\u001b[0mnumpy\u001b[0m\u001b[0;34m(\u001b[0m\u001b[0;34m)\u001b[0m\u001b[0;34m\u001b[0m\u001b[0;34m\u001b[0m\u001b[0m\n\u001b[1;32m     32\u001b[0m \u001b[0;34m\u001b[0m\u001b[0m\n\u001b[0;32m---> 33\u001b[0;31m         \u001b[0mtp\u001b[0m \u001b[0;34m=\u001b[0m \u001b[0mnp\u001b[0m\u001b[0;34m.\u001b[0m\u001b[0msum\u001b[0m\u001b[0;34m(\u001b[0m\u001b[0;34m(\u001b[0m\u001b[0my\u001b[0m \u001b[0;34m==\u001b[0m \u001b[0mbatch_targets\u001b[0m\u001b[0;34m)\u001b[0m\u001b[0;34m,\u001b[0m \u001b[0maxis\u001b[0m\u001b[0;34m=\u001b[0m\u001b[0;34m(\u001b[0m\u001b[0;36m1\u001b[0m\u001b[0;34m,\u001b[0m\u001b[0;36m2\u001b[0m\u001b[0;34m)\u001b[0m\u001b[0;34m)\u001b[0m\u001b[0;34m\u001b[0m\u001b[0;34m\u001b[0m\u001b[0m\n\u001b[0m\u001b[1;32m     34\u001b[0m         \u001b[0macc\u001b[0m \u001b[0;34m=\u001b[0m \u001b[0mtp\u001b[0m \u001b[0;34m/\u001b[0m \u001b[0mimg_res\u001b[0m\u001b[0;34m\u001b[0m\u001b[0;34m\u001b[0m\u001b[0m\n\u001b[1;32m     35\u001b[0m \u001b[0;34m\u001b[0m\u001b[0m\n",
            "\u001b[0;32m/usr/local/lib/python3.10/dist-packages/numpy/core/overrides.py\u001b[0m in \u001b[0;36msum\u001b[0;34m(*args, **kwargs)\u001b[0m\n",
            "\u001b[0;32m/usr/local/lib/python3.10/dist-packages/numpy/core/fromnumeric.py\u001b[0m in \u001b[0;36msum\u001b[0;34m(a, axis, dtype, out, keepdims, initial, where)\u001b[0m\n\u001b[1;32m   2294\u001b[0m         \u001b[0;32mreturn\u001b[0m \u001b[0mres\u001b[0m\u001b[0;34m\u001b[0m\u001b[0;34m\u001b[0m\u001b[0m\n\u001b[1;32m   2295\u001b[0m \u001b[0;34m\u001b[0m\u001b[0m\n\u001b[0;32m-> 2296\u001b[0;31m     return _wrapreduction(a, np.add, 'sum', axis, dtype, out, keepdims=keepdims,\n\u001b[0m\u001b[1;32m   2297\u001b[0m                           initial=initial, where=where)\n\u001b[1;32m   2298\u001b[0m \u001b[0;34m\u001b[0m\u001b[0m\n",
            "\u001b[0;32m/usr/local/lib/python3.10/dist-packages/numpy/core/fromnumeric.py\u001b[0m in \u001b[0;36m_wrapreduction\u001b[0;34m(obj, ufunc, method, axis, dtype, out, **kwargs)\u001b[0m\n\u001b[1;32m     84\u001b[0m                 \u001b[0;32mreturn\u001b[0m \u001b[0mreduction\u001b[0m\u001b[0;34m(\u001b[0m\u001b[0maxis\u001b[0m\u001b[0;34m=\u001b[0m\u001b[0maxis\u001b[0m\u001b[0;34m,\u001b[0m \u001b[0mout\u001b[0m\u001b[0;34m=\u001b[0m\u001b[0mout\u001b[0m\u001b[0;34m,\u001b[0m \u001b[0;34m**\u001b[0m\u001b[0mpasskwargs\u001b[0m\u001b[0;34m)\u001b[0m\u001b[0;34m\u001b[0m\u001b[0;34m\u001b[0m\u001b[0m\n\u001b[1;32m     85\u001b[0m \u001b[0;34m\u001b[0m\u001b[0m\n\u001b[0;32m---> 86\u001b[0;31m     \u001b[0;32mreturn\u001b[0m \u001b[0mufunc\u001b[0m\u001b[0;34m.\u001b[0m\u001b[0mreduce\u001b[0m\u001b[0;34m(\u001b[0m\u001b[0mobj\u001b[0m\u001b[0;34m,\u001b[0m \u001b[0maxis\u001b[0m\u001b[0;34m,\u001b[0m \u001b[0mdtype\u001b[0m\u001b[0;34m,\u001b[0m \u001b[0mout\u001b[0m\u001b[0;34m,\u001b[0m \u001b[0;34m**\u001b[0m\u001b[0mpasskwargs\u001b[0m\u001b[0;34m)\u001b[0m\u001b[0;34m\u001b[0m\u001b[0;34m\u001b[0m\u001b[0m\n\u001b[0m\u001b[1;32m     87\u001b[0m \u001b[0;34m\u001b[0m\u001b[0m\n\u001b[1;32m     88\u001b[0m \u001b[0;34m\u001b[0m\u001b[0m\n",
            "\u001b[0;31mAxisError\u001b[0m: axis 1 is out of bounds for array of dimension 0"
          ]
        }
      ]
    },
    {
      "cell_type": "code",
      "source": [
        "fig = plt.figure(figsize =(10, 7))\n",
        "\n",
        "ax = fig.add_axes([0, 0, 1, 1])\n",
        "\n",
        "bp = ax.boxplot(metrics, xticks=[\"accuracy\", \"precision\", \"recall\"])"
      ],
      "metadata": {
        "id": "7DOl-MhYkhf1"
      },
      "id": "7DOl-MhYkhf1",
      "execution_count": null,
      "outputs": []
    },
    {
      "cell_type": "markdown",
      "source": [
        "Show example results"
      ],
      "metadata": {
        "id": "weZH1CwvcQt8"
      },
      "id": "weZH1CwvcQt8"
    },
    {
      "cell_type": "code",
      "source": [
        "%matplotlib inline\n",
        "def show(img):\n",
        "    npimg = img.numpy()\n",
        "    plt.imshow(np.transpose(npimg, (1,2,0)), interpolation='nearest')"
      ],
      "metadata": {
        "id": "nBmTeLT2daJT"
      },
      "id": "nBmTeLT2daJT",
      "execution_count": null,
      "outputs": []
    },
    {
      "cell_type": "code",
      "source": [
        "pred = segmodel.predict(loaders[\"test\"])"
      ],
      "metadata": {
        "id": "86M3EhvScPcy"
      },
      "id": "86M3EhvScPcy",
      "execution_count": null,
      "outputs": []
    },
    {
      "cell_type": "code",
      "source": [
        "rant_idx = np.random.choice(len(pred), 10)\n",
        "\n",
        "og, gt = list(zip(*[loaders[\"test\"].__getitem__(i) for i in rant_idx]))\n",
        "pred = pred[rant_idx]\n",
        "\n",
        "plt.figure(figsize=(20,10))\n",
        "show(torchvision.utils.make_grid(og, nrow=10))\n",
        "plt.show()\n",
        "\n",
        "plt.figure(figsize=(20,10))\n",
        "show(torchvision.utils.make_grid(gt, nrow=10))\n",
        "plt.show()\n",
        "\n",
        "plt.figure(figsize=(20,10))\n",
        "show(torchvision.utils.make_grid(pred, nrow=10))\n",
        "plt.show()"
      ],
      "metadata": {
        "id": "go10_753b96b"
      },
      "id": "go10_753b96b",
      "execution_count": null,
      "outputs": []
    }
  ],
  "metadata": {
    "kernelspec": {
      "display_name": "Python 3",
      "name": "python3"
    },
    "language_info": {
      "codemirror_mode": {
        "name": "ipython",
        "version": 3
      },
      "file_extension": ".py",
      "mimetype": "text/x-python",
      "name": "python",
      "nbconvert_exporter": "python",
      "pygments_lexer": "ipython3",
      "version": "3.10.9"
    },
    "colab": {
      "provenance": [],
      "gpuType": "T4"
    },
    "accelerator": "GPU"
  },
  "nbformat": 4,
  "nbformat_minor": 5
}