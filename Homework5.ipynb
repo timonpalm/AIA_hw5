{
  "cells": [
    {
      "attachments": {},
      "cell_type": "markdown",
      "id": "5ade700e-1f9a-4268-a809-4f829ce411c8",
      "metadata": {
        "id": "5ade700e-1f9a-4268-a809-4f829ce411c8"
      },
      "source": [
        "# Homework 5: Scene-Dependent Image Segmentation\n",
        "\n",
        "The goal of this homework is to implement a model that seperates foreground and background objects for a specific scene.  \n",
        "We will use the highway scene from the Change Detection dataset:  \n",
        "http://jacarini.dinf.usherbrooke.ca/dataset2014#\n",
        "\n",
        "![input image](highway/input/in001600.jpg \"Title\") ![gt image](highway/groundtruth/gt001600.png \"Title\")"
      ]
    },
    {
      "attachments": {},
      "cell_type": "markdown",
      "id": "ea8b5923-78bb-48e7-8db6-79b35b79b942",
      "metadata": {
        "id": "ea8b5923-78bb-48e7-8db6-79b35b79b942"
      },
      "source": [
        "## Task 1: Create a custom (Pytorch) dataset\n",
        "\n",
        "\n",
        "https://pytorch.org/tutorials/beginner/basics/data_tutorial.html\n",
        "You need to create a class that inherets from **from torch.utils.data.Dataset** and implements two methods:\n",
        "- **def \\_\\_len\\_\\_(self)**:  returns the length of the dataset\n",
        "- **def \\_\\_getitem\\_\\_(self, idx)**: given an integer idx returns the data x,y\n",
        "    - x is the image as a float tensor of shape: $(3,H,W)$\n",
        "    - y is the label image as a mask of shape: $(H,W)$ each pixel should contain the label 0 (background) or 1 (foreground). It is recommended to use the type torch.long\n",
        "    \n",
        "**Tips**:\n",
        "- The first 470 images are not labeled. Just ignore these images.\n",
        "- If possible load all images into memory or evene directly to GPU to increase speed.\n",
        "- You can change the resolution to fit your model or your memory\n",
        "- Add data augmentation to increase the data size"
      ]
    },
    {
      "attachments": {},
      "cell_type": "markdown",
      "id": "0e120eb7-0349-4bb0-b305-23a0f3bb5e26",
      "metadata": {
        "id": "0e120eb7-0349-4bb0-b305-23a0f3bb5e26"
      },
      "source": [
        "## Task 2: Create a custom Segmentation Model\n",
        "\n",
        "- input: a batch of images $(B,3,H,W)$\n",
        "- output: a batch of pixel-wise class predictions $(B,C,H,W)$, where $C=2$\n",
        "\n",
        "Tips:\n",
        "- It is recommended to use a Fully-Convolutional Neural Network, because it flexible to the input and output resolution.\n",
        "- Use Residual Blocks with convolutional layers.\n",
        "- Base your model on established segmentation models:\n",
        "    - U-Net: https://arxiv.org/abs/1505.04597\n",
        "    - Deeplab: https://arxiv.org/abs/1606.00915"
      ]
    },
    {
      "attachments": {},
      "cell_type": "markdown",
      "id": "a85364b0-7010-4710-9373-94a89db8d7c5",
      "metadata": {
        "id": "a85364b0-7010-4710-9373-94a89db8d7c5"
      },
      "source": [
        "## Task 3: Create a training loop\n",
        "- split data into training and test data, e.g. 80% training data and 20% test data using your custom dataset.\n",
        "- Create a Dataloader for your custom datasets\n",
        "- Define a training loop for a single epoch:\n",
        "    - forward pass\n",
        "    - Loss function, e.g. cross entropy\n",
        "    - optimizer\n",
        "    - backward pass\n",
        "    - logging\n",
        "- Define validation loop:\n",
        "    - forward pass\n",
        "    - extract binary labels, e.g. threshold or argmax for each pixel.\n",
        "    - compute evaluation metrics: Accuracy, Precision, Recall and Intersection over Union for each image"
      ]
    },
    {
      "attachments": {},
      "cell_type": "markdown",
      "id": "83e603ff-a32e-4d90-84d9-eba8570d6e63",
      "metadata": {
        "id": "83e603ff-a32e-4d90-84d9-eba8570d6e63"
      },
      "source": [
        "## Task 4: Small Report of your model and training\n",
        "- visualize training and test error over each epoch\n",
        "- report the evaluation metrics of the final model"
      ]
    },
    {
      "cell_type": "code",
      "execution_count": 1,
      "id": "DEroEW4CKuHL",
      "metadata": {
        "colab": {
          "base_uri": "https://localhost:8080/"
        },
        "id": "DEroEW4CKuHL",
        "outputId": "9ae94367-6ddd-49a5-de51-5dc9befb0aa3"
      },
      "outputs": [
        {
          "name": "stdout",
          "output_type": "stream",
          "text": [
            "Cloning into 'AIA_hw5'...\n",
            "remote: Enumerating objects: 2952, done.\u001b[K\n",
            "remote: Counting objects: 100% (2952/2952), done.\u001b[K\n",
            "remote: Compressing objects: 100% (2283/2283), done.\u001b[K\n",
            "remote: Total 2952 (delta 672), reused 2940 (delta 667), pack-reused 0\u001b[K\n",
            "Receiving objects: 100% (2952/2952), 25.32 MiB | 6.73 MiB/s, done.\n",
            "Resolving deltas: 100% (672/672), done.\n"
          ]
        }
      ],
      "source": [
        "!git clone https://github.com/timonpalm/AIA_hw5.git"
      ]
    },
    {
      "cell_type": "code",
      "execution_count": 2,
      "id": "728a0c1f",
      "metadata": {
        "colab": {
          "base_uri": "https://localhost:8080/"
        },
        "id": "728a0c1f",
        "outputId": "54f6f295-3cb3-4852-e396-2e52c3ede70b"
      },
      "outputs": [
        {
          "name": "stdout",
          "output_type": "stream",
          "text": [
            "TORCH: using device: cpu\n"
          ]
        }
      ],
      "source": [
        "import cv2 as cv\n",
        "from matplotlib import pyplot as plt\n",
        "from torch.utils.data import Dataset, DataLoader\n",
        "from sklearn.model_selection import train_test_split\n",
        "import numpy as np\n",
        "import torch\n",
        "import torch.nn as nn\n",
        "import torchvision\n",
        "device = torch.device(\"cuda\" if torch.cuda.is_available() else \"cpu\")\n",
        "print(f\"TORCH: using device: {device}\")"
      ]
    },
    {
      "attachments": {},
      "cell_type": "markdown",
      "id": "fccd427e",
      "metadata": {
        "id": "fccd427e"
      },
      "source": [
        "load all images"
      ]
    },
    {
      "cell_type": "code",
      "execution_count": 74,
      "id": "eb08c37f",
      "metadata": {
        "id": "eb08c37f"
      },
      "outputs": [],
      "source": [
        "img_indices = range(471,1701)\n",
        "\n",
        "source_inputs = [cv.imread(f\"AIA_hw5/highway/input/in00{i:04d}.jpg\", )[:,:,::-1] for i in img_indices]\n",
        "source_gts = [cv.imread(f\"AIA_hw5/highway/groundtruth/gt00{i:04d}.png\",0) for i in img_indices]\n",
        "\n",
        "# downsize images\n",
        "dim = (53, 40) # width, height\n",
        "source_inputs = np.array([cv.resize(img, dim, interpolation = cv.INTER_AREA) for img in source_inputs])\n",
        "source_gts = np.array([cv.resize(img, dim, interpolation = cv.INTER_AREA) > 0 for img in source_gts])"
      ]
    },
    {
      "cell_type": "code",
      "execution_count": 75,
      "id": "6efeec94",
      "metadata": {
        "colab": {
          "base_uri": "https://localhost:8080/",
          "height": 246
        },
        "id": "6efeec94",
        "outputId": "b4d8df67-b394-4e4a-bef2-3abbc150c24f"
      },
      "outputs": [
        {
          "name": "stdout",
          "output_type": "stream",
          "text": [
            "(40, 53, 3)\n"
          ]
        },
        {
          "data": {
            "image/png": "[encoded data removed]",
            "text/plain": [
              "<Figure size 640x480 with 2 Axes>"
            ]
          },
          "metadata": {},
          "output_type": "display_data"
        }
      ],
      "source": [
        "img = source_inputs[0]\n",
        "gt = source_gts[0]\n",
        "print(img.shape)\n",
        "\n",
        "plt.figure()\n",
        "plt.subplot(1, 2, 1)\n",
        "plt.imshow(img)\n",
        "plt.axis(\"off\")\n",
        "plt.title(\"Image\")\n",
        "\n",
        "plt.subplot(1, 2, 2)\n",
        "plt.imshow(gt, cmap=\"gray\")\n",
        "plt.axis(\"off\")\n",
        "plt.title(\"GT\")\n",
        "plt.show()"
      ]
    },
    {
      "attachments": {},
      "cell_type": "markdown",
      "id": "c194f3c4",
      "metadata": {
        "id": "c194f3c4"
      },
      "source": [
        "## data augmentation\n",
        "changed brightness"
      ]
    },
    {
      "cell_type": "code",
      "execution_count": 76,
      "id": "9b9fdc39",
      "metadata": {
        "id": "9b9fdc39"
      },
      "outputs": [],
      "source": [
        "def change_brightness_random(img):\n",
        "    b_change = np.random.randint(-100, 100)\n",
        "\n",
        "    b_img = cv.convertScaleAbs(img, beta=b_change)\n",
        "\n",
        "    return b_img"
      ]
    },
    {
      "cell_type": "code",
      "execution_count": 77,
      "id": "fa063815",
      "metadata": {
        "id": "fa063815"
      },
      "outputs": [],
      "source": [
        "b_inputs = [change_brightness_random(img) for img in source_inputs]\n",
        "b_inputs = np.array(b_inputs)"
      ]
    },
    {
      "cell_type": "code",
      "execution_count": 78,
      "id": "bd4ffa07",
      "metadata": {
        "colab": {
          "base_uri": "https://localhost:8080/",
          "height": 463
        },
        "id": "bd4ffa07",
        "outputId": "a59f2b8e-040b-4a49-c92c-70f0faf61993"
      },
      "outputs": [
        {
          "name": "stdout",
          "output_type": "stream",
          "text": [
            "(40, 53, 3)\n"
          ]
        },
        {
          "data": {
            "text/plain": [
              "Text(0.5, 1.0, 'Image')"
            ]
          },
          "execution_count": 78,
          "metadata": {},
          "output_type": "execute_result"
        },
        {
          "data": {
            "image/png": "[encoded data removed]",
            "text/plain": [
              "<Figure size 640x480 with 1 Axes>"
            ]
          },
          "metadata": {},
          "output_type": "display_data"
        }
      ],
      "source": [
        "img = b_inputs[0,:,:,:]\n",
        "print(img.shape)\n",
        "plt.figure()\n",
        "#plt.subplot(1, 2, 1)\n",
        "plt.imshow(img)\n",
        "plt.axis(\"off\")\n",
        "plt.title(\"Image\")"
      ]
    },
    {
      "attachments": {},
      "cell_type": "markdown",
      "id": "d4834347",
      "metadata": {
        "id": "d4834347"
      },
      "source": [
        "change contrast"
      ]
    },
    {
      "cell_type": "code",
      "execution_count": 79,
      "id": "1d7f464c",
      "metadata": {
        "id": "1d7f464c"
      },
      "outputs": [],
      "source": [
        "def change_contrast_random(img):\n",
        "    #b_change = np.random.uniform(0.2, 2)\n",
        "    b_change = 0.2\n",
        "\n",
        "    b_img = cv.convertScaleAbs(img, alpha=b_change)\n",
        "\n",
        "    return b_img"
      ]
    },
    {
      "cell_type": "code",
      "execution_count": 80,
      "id": "167c8db8",
      "metadata": {
        "id": "167c8db8"
      },
      "outputs": [],
      "source": [
        "c_inputs = [change_contrast_random(img) for img in source_inputs]\n",
        "c_inputs = np.array(c_inputs)"
      ]
    },
    {
      "cell_type": "code",
      "execution_count": 81,
      "id": "451db7b0",
      "metadata": {
        "colab": {
          "base_uri": "https://localhost:8080/",
          "height": 445
        },
        "id": "451db7b0",
        "outputId": "5473de35-58e0-4fc0-9333-055f0079a3a9"
      },
      "outputs": [
        {
          "data": {
            "text/plain": [
              "Text(0.5, 1.0, 'Image')"
            ]
          },
          "execution_count": 81,
          "metadata": {},
          "output_type": "execute_result"
        },
        {
          "data": {
            "image/png": "[encoded data removed]",
            "text/plain": [
              "<Figure size 640x480 with 1 Axes>"
            ]
          },
          "metadata": {},
          "output_type": "display_data"
        }
      ],
      "source": [
        "img = c_inputs[0,:,:,:]\n",
        "#print(img.shape)\n",
        "plt.figure()\n",
        "#plt.subplot(1, 2, 1)\n",
        "plt.imshow(img)\n",
        "plt.axis(\"off\")\n",
        "plt.title(\"Image\")"
      ]
    },
    {
      "attachments": {},
      "cell_type": "markdown",
      "id": "44e05bbd",
      "metadata": {
        "id": "44e05bbd"
      },
      "source": [
        "train, test and eval split"
      ]
    },
    {
      "cell_type": "code",
      "execution_count": 82,
      "id": "b663b595",
      "metadata": {
        "colab": {
          "base_uri": "https://localhost:8080/"
        },
        "id": "b663b595",
        "outputId": "93d981b3-ed67-4bc2-e1c4-0f11703ff188"
      },
      "outputs": [
        {
          "name": "stdout",
          "output_type": "stream",
          "text": [
            "(3690, 3, 40, 53)\n",
            "(3690, 40, 53)\n"
          ]
        }
      ],
      "source": [
        "augm_input = [source_inputs, b_inputs, c_inputs]\n",
        "\n",
        "inputs = np.concatenate(augm_input, axis=0)\n",
        "gts = np.concatenate([source_gts]*len(augm_input), axis=0)\n",
        "\n",
        "inputs = inputs.transpose(0,3,1,2)\n",
        "#gts = gts[:,np.newaxis,:,:]\n",
        "\n",
        "print(inputs.shape)\n",
        "print(gts.shape)"
      ]
    },
    {
      "cell_type": "code",
      "execution_count": 83,
      "id": "a555090f",
      "metadata": {
        "colab": {
          "base_uri": "https://localhost:8080/"
        },
        "id": "a555090f",
        "outputId": "680fb961-9b3e-4ca6-e902-c0618daa5156"
      },
      "outputs": [
        {
          "name": "stdout",
          "output_type": "stream",
          "text": [
            "train_input: (2656, 3, 40, 53)\n",
            "train_gt: (2656, 40, 53)\n",
            "\n",
            "eval_input: (296, 3, 40, 53)\n",
            "eval_gt: (296, 40, 53)\n",
            "\n",
            "test_input: (738, 3, 40, 53)\n",
            "test_gt: (738, 40, 53)\n"
          ]
        }
      ],
      "source": [
        "train_input, test_input, train_gt, test_gt = train_test_split(inputs, gts, train_size=.8, shuffle=True)\n",
        "train_input, eval_input, train_gt, eval_gt = train_test_split(train_input, train_gt, test_size=.1, shuffle=True)\n",
        "print(f\"train_input: {train_input.shape}\")\n",
        "print(f\"train_gt: {train_gt.shape}\")\n",
        "print()\n",
        "print(f\"eval_input: {eval_input.shape}\")\n",
        "print(f\"eval_gt: {eval_gt.shape}\")\n",
        "print()\n",
        "print(f\"test_input: {test_input.shape}\")\n",
        "print(f\"test_gt: {test_gt.shape}\")"
      ]
    },
    {
      "cell_type": "code",
      "execution_count": 84,
      "id": "b5f1bf2b",
      "metadata": {
        "id": "b5f1bf2b"
      },
      "outputs": [],
      "source": [
        "class SegmentDataset(Dataset):\n",
        "    def __init__(self, inputs, gts) -> None:\n",
        "        super().__init__()\n",
        "        self.inputs = inputs\n",
        "        self.gts = gts\n",
        "\n",
        "    def __len__(self):\n",
        "        return len(self.inputs)\n",
        "\n",
        "    def __getitem__(self, index):\n",
        "        input = torch.tensor(self.inputs[index], dtype=torch.float32, requires_grad=True)\n",
        "        gt = torch.tensor(self.gts[index], dtype=torch.long)\n",
        "\n",
        "        return input, gt"
      ]
    },
    {
      "cell_type": "code",
      "execution_count": 86,
      "id": "cbd192cc",
      "metadata": {
        "id": "cbd192cc"
      },
      "outputs": [],
      "source": [
        "loaders = {\n",
        "    'train' : DataLoader(SegmentDataset(train_input, train_gt),\n",
        "                        batch_size=32,\n",
        "                        shuffle=True,\n",
        "                        #num_workers=1\n",
        "                        ),\n",
        "\n",
        "    'eval'  : DataLoader(SegmentDataset(eval_input, eval_gt),\n",
        "                        batch_size=32,\n",
        "                        shuffle=False,\n",
        "                        #num_workers=1\n",
        "                        ),\n",
        "\n",
        "    'test'  : DataLoader(SegmentDataset(test_input, test_gt),\n",
        "                        batch_size=32,\n",
        "                        shuffle=False,\n",
        "                        #num_workers=1\n",
        "                        ),\n",
        "}"
      ]
    },
    {
      "attachments": {},
      "cell_type": "markdown",
      "id": "39559578",
      "metadata": {
        "id": "39559578"
      },
      "source": [
        "## Model"
      ]
    },
    {
      "cell_type": "code",
      "execution_count": 87,
      "id": "a2e33111",
      "metadata": {
        "id": "a2e33111"
      },
      "outputs": [],
      "source": [
        "class ResidualBlock(torch.nn.Module):\n",
        "  def __init__(self, in_channels, out_channels, kernel_size=3, stride=1, padding=1):\n",
        "    super().__init__()\n",
        "    self.conv1 = nn.Conv2d(in_channels, out_channels, kernel_size, stride, padding)\n",
        "    self.batch1 = nn.BatchNorm2d(out_channels)\n",
        "    self.relu1 = nn.ReLU()\n",
        "    self.conv2 = nn.Conv2d(out_channels, out_channels, kernel_size, stride, padding)\n",
        "    self.batch2 = nn.BatchNorm2d(out_channels)\n",
        "    self.relu2 = nn.ReLU()\n",
        "    if in_channels != out_channels:\n",
        "        self.matching_conv = nn.Conv2d(in_channels, out_channels, 1)  # 1x1 conv\n",
        "    else:\n",
        "        self.matching_conv = nn.Identity()\n",
        "\n",
        "\n",
        "  def forward(self,x):\n",
        "    residual = self.matching_conv(x)\n",
        "    out = self.conv1(x)\n",
        "    out = self.batch1(out)\n",
        "    out = self.relu1(out)\n",
        "    out = self.conv2(out)\n",
        "    out = self.batch2(out)\n",
        "    out += residual\n",
        "    out = self.relu2(out)\n",
        "    return out\n",
        "\n",
        "class DeConvBlock(nn.Module):\n",
        "  def __init__(self, in_channels, out_channels, kernel_size=5, stride=1, padding=1):\n",
        "    super().__init__()\n",
        "    self.deconv = nn.ConvTranspose2d(in_channels, out_channels, kernel_size, stride, padding)\n",
        "    self.batch = nn.BatchNorm2d(out_channels)\n",
        "    self.dropout = nn.Dropout2d(0.25)\n",
        "    self.res = ResidualBlock(out_channels*2, out_channels)\n",
        "\n",
        "  def forward(self, x, residual):\n",
        "    out = self.deconv(x)\n",
        "    out = self.batch(out)\n",
        "    out = torch.concatenate([residual, out], axis=1)\n",
        "    out = self.dropout(out)\n",
        "    out = self.res(out)\n",
        "    return out\n",
        "\n",
        "class ResUNet(nn.Module):\n",
        "  def __init__(self):\n",
        "    super().__init__()\n",
        "    self.dropout = nn.Dropout2d(0.25)\n",
        "\n",
        "    self.res1 = ResidualBlock(3, 16)\n",
        "    self.maxpool1 = nn.MaxPool2d(3, stride=1)\n",
        "\n",
        "    self.res2 = ResidualBlock(16, 32)\n",
        "    self.maxpool2 = nn.MaxPool2d(3, stride=1)\n",
        "\n",
        "    self.res3 = ResidualBlock(32, 32)\n",
        "\n",
        "    self.deconv1 = DeConvBlock(32, 32)\n",
        "    self.deconv2 = DeConvBlock(32, 16)\n",
        "\n",
        "    self.output = nn.Conv2d(16,2, kernel_size=3, stride=1, padding=1)\n",
        "    self.act = nn.Sigmoid()\n",
        "\n",
        "  def forward(self,x):\n",
        "     conv1 = self.res1(x)\n",
        "     pool1 = self.maxpool1(conv1) # -2 38x51\n",
        "     pool1 = self.dropout(pool1)\n",
        "\n",
        "     conv2 = self.res2(pool1)\n",
        "     pool2 = self.maxpool2(conv2) # -2 36x49\n",
        "     pool2 = self.dropout(pool2)\n",
        "\n",
        "     conv3 = self.res3(pool2)\n",
        "\n",
        "     deconv1 = self.deconv1(conv3, conv2) # +2 38x51\n",
        "\n",
        "     deconv2 = self.deconv2(deconv1, conv1) # +2 40x53\n",
        "\n",
        "     output = self.output(deconv2)\n",
        "     output = self.act(output)\n",
        "\n",
        "     return output\n",
        "\n",
        "  @torch.no_grad()\n",
        "  def predict(self, x):\n",
        "    y = self.forward(x)\n",
        "    output = torch.argmax(y, dim=1)\n",
        "\n",
        "    return output\n"
      ]
    },
    {
      "attachments": {},
      "cell_type": "markdown",
      "id": "1ca6de21",
      "metadata": {
        "id": "1ca6de21"
      },
      "source": [
        "## Training"
      ]
    },
    {
      "cell_type": "code",
      "execution_count": 88,
      "id": "e01b077e",
      "metadata": {
        "id": "e01b077e"
      },
      "outputs": [],
      "source": [
        "def train_epoch(model: torch.nn.Module, train_loader: DataLoader, f_loss: torch.nn.modules.loss, optimizer: torch.optim.Optimizer):\n",
        "    model.train()\n",
        "    epoch_loss = []\n",
        "\n",
        "    for _, (batch_img, batch_target) in enumerate(train_loader):\n",
        "        output = model.forward(batch_img)\n",
        "\n",
        "        loss = f_loss(output, batch_target)\n",
        "\n",
        "        optimizer.zero_grad()\n",
        "        loss.backward()\n",
        "\n",
        "        optimizer.step()\n",
        "\n",
        "        with torch.no_grad():\n",
        "            epoch_loss += [loss.item()]\n",
        "\n",
        "    return np.array(epoch_loss).mean()\n",
        "\n",
        "@torch.no_grad()\n",
        "def test(model: torch.nn.Module, test_loader: DataLoader):\n",
        "    model.eval()\n",
        "    img_res = 40 * 53\n",
        "\n",
        "    accs = []\n",
        "    precisions = []\n",
        "    recalls = []\n",
        "    ious = []\n",
        "    pred = []\n",
        "\n",
        "    for _, (batch_img, batch_targets) in enumerate(test_loader):\n",
        "        y = model.predict(batch_img).numpy()\n",
        "        batch_targets = batch_targets.numpy()\n",
        "\n",
        "        tmp = np.logical_and(y, batch_targets)\n",
        "        tp = np.sum(tmp, axis=(1,2))\n",
        "        acc = tp / img_res\n",
        "\n",
        "        precision = tp / y.sum(axis=(1,2))\n",
        "\n",
        "        fn = np.sum(((batch_targets - y) == 1), axis=(1,2))\n",
        "\n",
        "        recall = tp / (tp + fn)\n",
        "\n",
        "        iou = np.sum(np.logical_and(batch_targets, y), axis=(1,2)) / np.sum(np.logical_or(batch_targets, y), axis=(1,2))\n",
        "\n",
        "        accs.append(acc)\n",
        "        precisions.append(precision)\n",
        "        recalls.append(recall)\n",
        "        ious.append(iou)\n",
        "        pred.append(y)\n",
        "\n",
        "    return (np.concatenate(accs), np.concatenate(precisions), np.concatenate(recalls), np.concatenate(ious)), np.concatenate(pred, axis=0)\n",
        "\n",
        "@torch.no_grad()\n",
        "def eval(model: torch.nn.Module, eval_loader: DataLoader, f_loss: torch.nn.modules.loss):\n",
        "    model.eval()\n",
        "    eval_loss = []\n",
        "\n",
        "    for _, (batch_img, batch_targets) in enumerate(eval_loader):\n",
        "        y = model.forward(batch_img)\n",
        "\n",
        "        loss = f_loss(y, batch_targets)\n",
        "        eval_loss += [loss.item()]\n",
        "\n",
        "    eval_loss = np.array(eval_loss).mean()\n",
        "\n",
        "    return eval_loss\n",
        "\n",
        "def train(model: torch.nn.Module, loaders: dict[DataLoader], f_loss: torch.nn.modules.loss, optimizer: torch.optim.Optimizer, num_epochs=20):\n",
        "    model.train()\n",
        "\n",
        "    train_loss = []\n",
        "    eval_loss = []\n",
        "\n",
        "    for epoch in range(num_epochs):\n",
        "        epoch_train_loss = train_epoch(model, loaders[\"train\"], f_loss, optimizer)\n",
        "\n",
        "        with torch.no_grad():\n",
        "            epoch_eval_loss = eval(model, loaders[\"eval\"], f_loss)\n",
        "\n",
        "            print(f\"epoch: {epoch+1} train_loss: {round(epoch_train_loss, 4)} \"\n",
        "                  f\"eval_loss: {round(epoch_eval_loss, 4)}\")\n",
        "\n",
        "            train_loss.append(epoch_train_loss)\n",
        "            eval_loss.append(epoch_eval_loss)\n",
        "\n",
        "    return train_loss, eval_loss\n"
      ]
    },
    {
      "cell_type": "code",
      "execution_count": 89,
      "id": "38fa582b",
      "metadata": {
        "colab": {
          "base_uri": "https://localhost:8080/"
        },
        "id": "38fa582b",
        "outputId": "a6f4b608-9760-4968-af9f-3134243ab06c"
      },
      "outputs": [
        {
          "ename": "RuntimeError",
          "evalue": "only batches of spatial targets supported (3D tensors) but got targets of dimension: 4",
          "output_type": "error",
          "traceback": [
            "\u001b[0;31m---------------------------------------------------------------------------\u001b[0m",
            "\u001b[0;31mRuntimeError\u001b[0m                              Traceback (most recent call last)",
            "\u001b[1;32m/home/timon/Studium/Master/sommer2023/AIA/AIA_hw5/Homework5.ipynb Cell 28\u001b[0m in \u001b[0;36m6\n\u001b[1;32m      <a href='vscode-notebook-cell:/home/timon/Studium/Master/sommer2023/AIA/AIA_hw5/Homework5.ipynb#Y145sZmlsZQ%3D%3D?line=2'>3</a>\u001b[0m criterion \u001b[39m=\u001b[39m nn\u001b[39m.\u001b[39mCrossEntropyLoss()\n\u001b[1;32m      <a href='vscode-notebook-cell:/home/timon/Studium/Master/sommer2023/AIA/AIA_hw5/Homework5.ipynb#Y145sZmlsZQ%3D%3D?line=3'>4</a>\u001b[0m optimizer \u001b[39m=\u001b[39m torch\u001b[39m.\u001b[39moptim\u001b[39m.\u001b[39mAdam(segmodel\u001b[39m.\u001b[39mparameters())\n\u001b[0;32m----> <a href='vscode-notebook-cell:/home/timon/Studium/Master/sommer2023/AIA/AIA_hw5/Homework5.ipynb#Y145sZmlsZQ%3D%3D?line=5'>6</a>\u001b[0m train_loss, eval_loss \u001b[39m=\u001b[39m train(segmodel, loaders, criterion, optimizer, num_epochs\u001b[39m=\u001b[39;49m\u001b[39m1\u001b[39;49m)\n",
            "\u001b[1;32m/home/timon/Studium/Master/sommer2023/AIA/AIA_hw5/Homework5.ipynb Cell 28\u001b[0m in \u001b[0;36m7\n\u001b[1;32m     <a href='vscode-notebook-cell:/home/timon/Studium/Master/sommer2023/AIA/AIA_hw5/Homework5.ipynb#Y145sZmlsZQ%3D%3D?line=73'>74</a>\u001b[0m eval_loss \u001b[39m=\u001b[39m []\n\u001b[1;32m     <a href='vscode-notebook-cell:/home/timon/Studium/Master/sommer2023/AIA/AIA_hw5/Homework5.ipynb#Y145sZmlsZQ%3D%3D?line=75'>76</a>\u001b[0m \u001b[39mfor\u001b[39;00m epoch \u001b[39min\u001b[39;00m \u001b[39mrange\u001b[39m(num_epochs):\n\u001b[0;32m---> <a href='vscode-notebook-cell:/home/timon/Studium/Master/sommer2023/AIA/AIA_hw5/Homework5.ipynb#Y145sZmlsZQ%3D%3D?line=76'>77</a>\u001b[0m     epoch_train_loss \u001b[39m=\u001b[39m train_epoch(model, loaders[\u001b[39m\"\u001b[39;49m\u001b[39mtrain\u001b[39;49m\u001b[39m\"\u001b[39;49m], f_loss, optimizer)\n\u001b[1;32m     <a href='vscode-notebook-cell:/home/timon/Studium/Master/sommer2023/AIA/AIA_hw5/Homework5.ipynb#Y145sZmlsZQ%3D%3D?line=78'>79</a>\u001b[0m     \u001b[39mwith\u001b[39;00m torch\u001b[39m.\u001b[39mno_grad():\n\u001b[1;32m     <a href='vscode-notebook-cell:/home/timon/Studium/Master/sommer2023/AIA/AIA_hw5/Homework5.ipynb#Y145sZmlsZQ%3D%3D?line=79'>80</a>\u001b[0m         epoch_eval_loss \u001b[39m=\u001b[39m \u001b[39meval\u001b[39m(model, loaders[\u001b[39m\"\u001b[39m\u001b[39meval\u001b[39m\u001b[39m\"\u001b[39m], f_loss)\n",
            "\u001b[1;32m/home/timon/Studium/Master/sommer2023/AIA/AIA_hw5/Homework5.ipynb Cell 28\u001b[0m in \u001b[0;36m8\n\u001b[1;32m      <a href='vscode-notebook-cell:/home/timon/Studium/Master/sommer2023/AIA/AIA_hw5/Homework5.ipynb#Y145sZmlsZQ%3D%3D?line=4'>5</a>\u001b[0m \u001b[39mfor\u001b[39;00m _, (batch_img, batch_target) \u001b[39min\u001b[39;00m \u001b[39menumerate\u001b[39m(train_loader):\n\u001b[1;32m      <a href='vscode-notebook-cell:/home/timon/Studium/Master/sommer2023/AIA/AIA_hw5/Homework5.ipynb#Y145sZmlsZQ%3D%3D?line=5'>6</a>\u001b[0m     output \u001b[39m=\u001b[39m model\u001b[39m.\u001b[39mforward(batch_img)\n\u001b[0;32m----> <a href='vscode-notebook-cell:/home/timon/Studium/Master/sommer2023/AIA/AIA_hw5/Homework5.ipynb#Y145sZmlsZQ%3D%3D?line=7'>8</a>\u001b[0m     loss \u001b[39m=\u001b[39m f_loss(output, batch_target)\n\u001b[1;32m     <a href='vscode-notebook-cell:/home/timon/Studium/Master/sommer2023/AIA/AIA_hw5/Homework5.ipynb#Y145sZmlsZQ%3D%3D?line=9'>10</a>\u001b[0m     optimizer\u001b[39m.\u001b[39mzero_grad()\n\u001b[1;32m     <a href='vscode-notebook-cell:/home/timon/Studium/Master/sommer2023/AIA/AIA_hw5/Homework5.ipynb#Y145sZmlsZQ%3D%3D?line=10'>11</a>\u001b[0m     loss\u001b[39m.\u001b[39mbackward()\n",
            "File \u001b[0;32m~/.local/lib/python3.10/site-packages/torch/nn/modules/module.py:1194\u001b[0m, in \u001b[0;36mModule._call_impl\u001b[0;34m(self, *input, **kwargs)\u001b[0m\n\u001b[1;32m   1190\u001b[0m \u001b[39m# If we don't have any hooks, we want to skip the rest of the logic in\u001b[39;00m\n\u001b[1;32m   1191\u001b[0m \u001b[39m# this function, and just call forward.\u001b[39;00m\n\u001b[1;32m   1192\u001b[0m \u001b[39mif\u001b[39;00m \u001b[39mnot\u001b[39;00m (\u001b[39mself\u001b[39m\u001b[39m.\u001b[39m_backward_hooks \u001b[39mor\u001b[39;00m \u001b[39mself\u001b[39m\u001b[39m.\u001b[39m_forward_hooks \u001b[39mor\u001b[39;00m \u001b[39mself\u001b[39m\u001b[39m.\u001b[39m_forward_pre_hooks \u001b[39mor\u001b[39;00m _global_backward_hooks\n\u001b[1;32m   1193\u001b[0m         \u001b[39mor\u001b[39;00m _global_forward_hooks \u001b[39mor\u001b[39;00m _global_forward_pre_hooks):\n\u001b[0;32m-> 1194\u001b[0m     \u001b[39mreturn\u001b[39;00m forward_call(\u001b[39m*\u001b[39;49m\u001b[39minput\u001b[39;49m, \u001b[39m*\u001b[39;49m\u001b[39m*\u001b[39;49mkwargs)\n\u001b[1;32m   1195\u001b[0m \u001b[39m# Do not call functions when jit is used\u001b[39;00m\n\u001b[1;32m   1196\u001b[0m full_backward_hooks, non_full_backward_hooks \u001b[39m=\u001b[39m [], []\n",
            "File \u001b[0;32m~/.local/lib/python3.10/site-packages/torch/nn/modules/loss.py:1174\u001b[0m, in \u001b[0;36mCrossEntropyLoss.forward\u001b[0;34m(self, input, target)\u001b[0m\n\u001b[1;32m   1173\u001b[0m \u001b[39mdef\u001b[39;00m \u001b[39mforward\u001b[39m(\u001b[39mself\u001b[39m, \u001b[39minput\u001b[39m: Tensor, target: Tensor) \u001b[39m-\u001b[39m\u001b[39m>\u001b[39m Tensor:\n\u001b[0;32m-> 1174\u001b[0m     \u001b[39mreturn\u001b[39;00m F\u001b[39m.\u001b[39;49mcross_entropy(\u001b[39minput\u001b[39;49m, target, weight\u001b[39m=\u001b[39;49m\u001b[39mself\u001b[39;49m\u001b[39m.\u001b[39;49mweight,\n\u001b[1;32m   1175\u001b[0m                            ignore_index\u001b[39m=\u001b[39;49m\u001b[39mself\u001b[39;49m\u001b[39m.\u001b[39;49mignore_index, reduction\u001b[39m=\u001b[39;49m\u001b[39mself\u001b[39;49m\u001b[39m.\u001b[39;49mreduction,\n\u001b[1;32m   1176\u001b[0m                            label_smoothing\u001b[39m=\u001b[39;49m\u001b[39mself\u001b[39;49m\u001b[39m.\u001b[39;49mlabel_smoothing)\n",
            "File \u001b[0;32m~/.local/lib/python3.10/site-packages/torch/nn/functional.py:3026\u001b[0m, in \u001b[0;36mcross_entropy\u001b[0;34m(input, target, weight, size_average, ignore_index, reduce, reduction, label_smoothing)\u001b[0m\n\u001b[1;32m   3024\u001b[0m \u001b[39mif\u001b[39;00m size_average \u001b[39mis\u001b[39;00m \u001b[39mnot\u001b[39;00m \u001b[39mNone\u001b[39;00m \u001b[39mor\u001b[39;00m reduce \u001b[39mis\u001b[39;00m \u001b[39mnot\u001b[39;00m \u001b[39mNone\u001b[39;00m:\n\u001b[1;32m   3025\u001b[0m     reduction \u001b[39m=\u001b[39m _Reduction\u001b[39m.\u001b[39mlegacy_get_string(size_average, reduce)\n\u001b[0;32m-> 3026\u001b[0m \u001b[39mreturn\u001b[39;00m torch\u001b[39m.\u001b[39;49m_C\u001b[39m.\u001b[39;49m_nn\u001b[39m.\u001b[39;49mcross_entropy_loss(\u001b[39minput\u001b[39;49m, target, weight, _Reduction\u001b[39m.\u001b[39;49mget_enum(reduction), ignore_index, label_smoothing)\n",
            "\u001b[0;31mRuntimeError\u001b[0m: only batches of spatial targets supported (3D tensors) but got targets of dimension: 4"
          ]
        }
      ],
      "source": [
        "segmodel = ResUNet()\n",
        "\n",
        "criterion = nn.CrossEntropyLoss()\n",
        "optimizer = torch.optim.Adam(segmodel.parameters())\n",
        "\n",
        "train_loss, eval_loss = train(segmodel, loaders, criterion, optimizer, num_epochs=1)"
      ]
    },
    {
      "cell_type": "code",
      "execution_count": 18,
      "id": "lygpwifzSCIR",
      "metadata": {
        "colab": {
          "base_uri": "https://localhost:8080/",
          "height": 430
        },
        "id": "lygpwifzSCIR",
        "outputId": "fb7be55a-7fa6-49d4-dc56-fbe6cd2e4bb5"
      },
      "outputs": [
        {
          "data": {
            "image/png": "[encoded data removed]",
            "text/plain": [
              "<Figure size 640x480 with 1 Axes>"
            ]
          },
          "metadata": {},
          "output_type": "display_data"
        }
      ],
      "source": [
        "plt.plot(train_loss, label=\"train_loss\")\n",
        "plt.plot(eval_loss, label=\"eval_loss\")\n",
        "plt.legend()\n",
        "plt.show()"
      ]
    },
    {
      "cell_type": "code",
      "execution_count": 72,
      "id": "ICHsgsesSgct",
      "metadata": {
        "colab": {
          "base_uri": "https://localhost:8080/",
          "height": 779
        },
        "id": "ICHsgsesSgct",
        "outputId": "1c856c25-55cb-4f9c-b40c-aa8954171e48"
      },
      "outputs": [
        {
          "name": "stderr",
          "output_type": "stream",
          "text": [
            "/tmp/ipykernel_853992/114137020.py:39: RuntimeWarning: invalid value encountered in divide\n",
            "  precision = tp / y.sum(axis=(1,2))\n"
          ]
        },
        {
          "name": "stdout",
          "output_type": "stream",
          "text": [
            "mean accuracy: 0.0\n",
            "mean precision: nan\n",
            "mean recall: 0.0\n",
            "mean iou: 0.0\n"
          ]
        }
      ],
      "source": [
        "metrics, pred = test(segmodel, loaders[\"test\"])\n",
        "\n",
        "print(f\"mean accuracy: {metrics[0].mean()}\")\n",
        "print(f\"mean precision: {metrics[1].mean()}\")\n",
        "print(f\"mean recall: {metrics[2].mean()}\")\n",
        "print(f\"mean iou: {metrics[3].mean()}\")"
      ]
    },
    {
      "cell_type": "code",
      "execution_count": 27,
      "id": "7DOl-MhYkhf1",
      "metadata": {
        "id": "7DOl-MhYkhf1"
      },
      "outputs": [
        {
          "ename": "TypeError",
          "evalue": "Axes.boxplot() got an unexpected keyword argument 'xticks'",
          "output_type": "error",
          "traceback": [
            "\u001b[0;31m---------------------------------------------------------------------------\u001b[0m",
            "\u001b[0;31mTypeError\u001b[0m                                 Traceback (most recent call last)",
            "\u001b[1;32m/home/timon/Studium/Master/sommer2023/AIA/AIA_hw5/Homework5.ipynb Cell 31\u001b[0m in \u001b[0;36m5\n\u001b[1;32m      <a href='vscode-notebook-cell:/home/timon/Studium/Master/sommer2023/AIA/AIA_hw5/Homework5.ipynb#Y151sZmlsZQ%3D%3D?line=0'>1</a>\u001b[0m fig \u001b[39m=\u001b[39m plt\u001b[39m.\u001b[39mfigure(figsize \u001b[39m=\u001b[39m(\u001b[39m10\u001b[39m, \u001b[39m7\u001b[39m))\n\u001b[1;32m      <a href='vscode-notebook-cell:/home/timon/Studium/Master/sommer2023/AIA/AIA_hw5/Homework5.ipynb#Y151sZmlsZQ%3D%3D?line=2'>3</a>\u001b[0m ax \u001b[39m=\u001b[39m fig\u001b[39m.\u001b[39madd_axes([\u001b[39m0\u001b[39m, \u001b[39m0\u001b[39m, \u001b[39m1\u001b[39m, \u001b[39m1\u001b[39m])\n\u001b[0;32m----> <a href='vscode-notebook-cell:/home/timon/Studium/Master/sommer2023/AIA/AIA_hw5/Homework5.ipynb#Y151sZmlsZQ%3D%3D?line=4'>5</a>\u001b[0m bp \u001b[39m=\u001b[39m ax\u001b[39m.\u001b[39;49mboxplot(metrics, xticks\u001b[39m=\u001b[39;49m[\u001b[39m\"\u001b[39;49m\u001b[39maccuracy\u001b[39;49m\u001b[39m\"\u001b[39;49m, \u001b[39m\"\u001b[39;49m\u001b[39mprecision\u001b[39;49m\u001b[39m\"\u001b[39;49m, \u001b[39m\"\u001b[39;49m\u001b[39mrecall\u001b[39;49m\u001b[39m\"\u001b[39;49m])\n",
            "File \u001b[0;32m~/.local/lib/python3.10/site-packages/matplotlib/__init__.py:1423\u001b[0m, in \u001b[0;36m_preprocess_data.<locals>.inner\u001b[0;34m(ax, data, *args, **kwargs)\u001b[0m\n\u001b[1;32m   1420\u001b[0m \u001b[39m@functools\u001b[39m\u001b[39m.\u001b[39mwraps(func)\n\u001b[1;32m   1421\u001b[0m \u001b[39mdef\u001b[39;00m \u001b[39minner\u001b[39m(ax, \u001b[39m*\u001b[39margs, data\u001b[39m=\u001b[39m\u001b[39mNone\u001b[39;00m, \u001b[39m*\u001b[39m\u001b[39m*\u001b[39mkwargs):\n\u001b[1;32m   1422\u001b[0m     \u001b[39mif\u001b[39;00m data \u001b[39mis\u001b[39;00m \u001b[39mNone\u001b[39;00m:\n\u001b[0;32m-> 1423\u001b[0m         \u001b[39mreturn\u001b[39;00m func(ax, \u001b[39m*\u001b[39;49m\u001b[39mmap\u001b[39;49m(sanitize_sequence, args), \u001b[39m*\u001b[39;49m\u001b[39m*\u001b[39;49mkwargs)\n\u001b[1;32m   1425\u001b[0m     bound \u001b[39m=\u001b[39m new_sig\u001b[39m.\u001b[39mbind(ax, \u001b[39m*\u001b[39margs, \u001b[39m*\u001b[39m\u001b[39m*\u001b[39mkwargs)\n\u001b[1;32m   1426\u001b[0m     auto_label \u001b[39m=\u001b[39m (bound\u001b[39m.\u001b[39marguments\u001b[39m.\u001b[39mget(label_namer)\n\u001b[1;32m   1427\u001b[0m                   \u001b[39mor\u001b[39;00m bound\u001b[39m.\u001b[39mkwargs\u001b[39m.\u001b[39mget(label_namer))\n",
            "\u001b[0;31mTypeError\u001b[0m: Axes.boxplot() got an unexpected keyword argument 'xticks'"
          ]
        },
        {
          "data": {
            "image/png": "[encoded data removed]",
            "text/plain": [
              "<Figure size 1000x700 with 1 Axes>"
            ]
          },
          "metadata": {},
          "output_type": "display_data"
        }
      ],
      "source": [
        "fig = plt.figure(figsize =(10, 7))\n",
        "\n",
        "ax = fig.add_axes([0, 0, 1, 1])\n",
        "\n",
        "bp = ax.boxplot(metrics)"
      ]
    },
    {
      "attachments": {},
      "cell_type": "markdown",
      "id": "weZH1CwvcQt8",
      "metadata": {
        "id": "weZH1CwvcQt8"
      },
      "source": [
        "Show example results"
      ]
    },
    {
      "cell_type": "code",
      "execution_count": 36,
      "id": "nBmTeLT2daJT",
      "metadata": {
        "id": "nBmTeLT2daJT"
      },
      "outputs": [],
      "source": [
        "%matplotlib inline\n",
        "def show(img):\n",
        "    npimg = img.numpy()\n",
        "    plt.imshow(np.transpose(npimg, (1,2,0)), interpolation='nearest')"
      ]
    },
    {
      "cell_type": "code",
      "execution_count": 70,
      "id": "go10_753b96b",
      "metadata": {
        "id": "go10_753b96b"
      },
      "outputs": [
        {
          "data": {
            "image/png": "[encoded data removed]",
            "text/plain": [
              "<Figure size 640x480 with 1 Axes>"
            ]
          },
          "metadata": {},
          "output_type": "display_data"
        },
        {
          "data": {
            "image/png": "[encoded data removed]",
            "text/plain": [
              "<Figure size 640x480 with 1 Axes>"
            ]
          },
          "metadata": {},
          "output_type": "display_data"
        },
        {
          "data": {
            "image/png": "[encoded data removed]",
            "text/plain": [
              "<Figure size 640x480 with 1 Axes>"
            ]
          },
          "metadata": {},
          "output_type": "display_data"
        }
      ],
      "source": [
        "rant_idx = np.random.choice(len(pred), 1)\n",
        "\n",
        "#og, gt = list(zip(*[loaders[\"test\"].dataset.__getitem__(i) for i in rant_idx]))\n",
        "og, gt = loaders[\"test\"].dataset.__getitem__(rant_idx)\n",
        "og = np.transpose(og.detach().numpy().squeeze(), (1,2,0))\n",
        "gt = gt.detach().numpy().squeeze()\n",
        "pred_i = pred[rant_idx]\n",
        "\n",
        "plt.imshow(og.astype(np.uint8))\n",
        "plt.axis(\"off\")\n",
        "plt.title(\"OG\")\n",
        "plt.show()\n",
        "\n",
        "plt.imshow(gt, cmap=\"gray\")\n",
        "plt.axis(\"off\")\n",
        "plt.title(\"GT\")\n",
        "plt.show()\n",
        "\n",
        "plt.imshow(pred_i.squeeze(), cmap=\"gray\")\n",
        "plt.axis(\"off\")\n",
        "plt.title(\"Prediction\")\n",
        "plt.show()"
      ]
    },
    {
      "cell_type": "code",
      "execution_count": null,
      "id": "535d21fb",
      "metadata": {},
      "outputs": [],
      "source": []
    }
  ],
  "metadata": {
    "accelerator": "GPU",
    "colab": {
      "gpuType": "T4",
      "provenance": []
    },
    "kernelspec": {
      "display_name": "Python 3",
      "name": "python3"
    },
    "language_info": {
      "codemirror_mode": {
        "name": "ipython",
        "version": 3
      },
      "file_extension": ".py",
      "mimetype": "text/x-python",
      "name": "python",
      "nbconvert_exporter": "python",
      "pygments_lexer": "ipython3",
      "version": "3.10.9"
    }
  },
  "nbformat": 4,
  "nbformat_minor": 5
}
